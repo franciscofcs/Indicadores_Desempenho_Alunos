{
  "cells": [
    {
      "cell_type": "markdown",
      "metadata": {
        "id": "view-in-github",
        "colab_type": "text"
      },
      "source": [
        "<a href=\"https://colab.research.google.com/github/franciscofcs/Indicadores_Desempenho_Alunos/blob/master/XAI_em_modelos_de_ML_na_MDE.ipynb\" target=\"_parent\"><img src=\"https://colab.research.google.com/assets/colab-badge.svg\" alt=\"Open In Colab\"/></a>"
      ]
    },
    {
      "cell_type": "markdown",
      "metadata": {
        "id": "_UrI9qdciPeq"
      },
      "source": [
        "# Custom Pipeline de Preprocessamento - Dados de Alunos do IFMA\n",
        "\n",
        "This post will use a classic regression example — predicting house prices to demonstrate 4 practical steps in using Pipeline, which are how to:\n",
        "\n",
        "<ol>\n",
        "<li>Structure a workflow systematically before writing any pipeline code</li>\n",
        "<li>Create custom transformers in Pipeline</li>\n",
        "<li>Apply modular approach when building pipeline</li>\n",
        "<li>Use same pipeline with different models to evaluate models’ performance quickly</li>"
      ]
    },
    {
      "cell_type": "code",
      "execution_count": 2,
      "metadata": {
        "colab": {
          "base_uri": "https://localhost:8080/"
        },
        "id": "69-UYgHmteMi",
        "outputId": "17ef04e5-5976-4677-8b25-5b4f482b88dc"
      },
      "outputs": [
        {
          "output_type": "stream",
          "name": "stdout",
          "text": [
            "Drive already mounted at /content/drive; to attempt to forcibly remount, call drive.mount(\"/content/drive\", force_remount=True).\n"
          ]
        }
      ],
      "source": [
        "from google.colab import drive\n",
        "drive.mount('/content/drive')"
      ]
    },
    {
      "cell_type": "markdown",
      "metadata": {
        "id": "iaGL_tsTNPZ-"
      },
      "source": [
        "## Imports"
      ]
    },
    {
      "cell_type": "code",
      "execution_count": 3,
      "metadata": {
        "colab": {
          "base_uri": "https://localhost:8080/"
        },
        "id": "0Rqw_nLdVH8S",
        "outputId": "ce258636-2387-4950-aa08-1ff7db806df3"
      },
      "outputs": [
        {
          "output_type": "stream",
          "name": "stdout",
          "text": [
            "Requirement already satisfied: feature_engine in /usr/local/lib/python3.10/dist-packages (1.6.2)\n",
            "Requirement already satisfied: numpy>=1.18.2 in /usr/local/lib/python3.10/dist-packages (from feature_engine) (1.23.5)\n",
            "Requirement already satisfied: pandas>=1.0.3 in /usr/local/lib/python3.10/dist-packages (from feature_engine) (1.5.3)\n",
            "Requirement already satisfied: scikit-learn>=1.0.0 in /usr/local/lib/python3.10/dist-packages (from feature_engine) (1.2.2)\n",
            "Requirement already satisfied: scipy>=1.4.1 in /usr/local/lib/python3.10/dist-packages (from feature_engine) (1.11.3)\n",
            "Requirement already satisfied: statsmodels>=0.11.1 in /usr/local/lib/python3.10/dist-packages (from feature_engine) (0.14.0)\n",
            "Requirement already satisfied: python-dateutil>=2.8.1 in /usr/local/lib/python3.10/dist-packages (from pandas>=1.0.3->feature_engine) (2.8.2)\n",
            "Requirement already satisfied: pytz>=2020.1 in /usr/local/lib/python3.10/dist-packages (from pandas>=1.0.3->feature_engine) (2023.3.post1)\n",
            "Requirement already satisfied: joblib>=1.1.1 in /usr/local/lib/python3.10/dist-packages (from scikit-learn>=1.0.0->feature_engine) (1.3.2)\n",
            "Requirement already satisfied: threadpoolctl>=2.0.0 in /usr/local/lib/python3.10/dist-packages (from scikit-learn>=1.0.0->feature_engine) (3.2.0)\n",
            "Requirement already satisfied: patsy>=0.5.2 in /usr/local/lib/python3.10/dist-packages (from statsmodels>=0.11.1->feature_engine) (0.5.3)\n",
            "Requirement already satisfied: packaging>=21.3 in /usr/local/lib/python3.10/dist-packages (from statsmodels>=0.11.1->feature_engine) (23.2)\n",
            "Requirement already satisfied: six in /usr/local/lib/python3.10/dist-packages (from patsy>=0.5.2->statsmodels>=0.11.1->feature_engine) (1.16.0)\n"
          ]
        }
      ],
      "source": [
        "!pip install feature_engine"
      ]
    },
    {
      "cell_type": "code",
      "execution_count": 4,
      "metadata": {
        "id": "sojcDxJiNRmM"
      },
      "outputs": [],
      "source": [
        "import pandas as pd\n",
        "import numpy as np\n",
        "\n",
        "import missingno as msno\n",
        "\n",
        "from sklearn.base import BaseEstimator, TransformerMixin\n",
        "\n",
        "from sklearn.base import BaseEstimator, TransformerMixin\n",
        "from sklearn.impute import SimpleImputer\n",
        "from sklearn.preprocessing import StandardScaler, OneHotEncoder, LabelEncoder\n",
        "from sklearn.model_selection import train_test_split\n",
        "from sklearn.pipeline import Pipeline, FeatureUnion\n",
        "from sklearn.linear_model import LinearRegression\n",
        "from sklearn.metrics import mean_absolute_error, mean_squared_error, r2_score\n",
        "from sklearn.model_selection import KFold, cross_val_score\n",
        "# from feature_engine import encoding\n",
        "\n",
        "# ampliando as funcionalidades\n",
        "from sklearn.model_selection import cross_val_score\n",
        "import matplotlib.pyplot as plt\n",
        "from sklearn.metrics import ConfusionMatrixDisplay, confusion_matrix, classification_report\n",
        "\n",
        "from sklearn.ensemble import RandomForestClassifier\n",
        "# from sklearn.metrics import plot_roc_curve"
      ]
    },
    {
      "cell_type": "markdown",
      "metadata": {
        "id": "G5rdARJy85ls"
      },
      "source": [
        "## Conhecendo os dados de alunos do IFMA"
      ]
    },
    {
      "cell_type": "code",
      "execution_count": 5,
      "metadata": {
        "id": "ybBexKjabkbs"
      },
      "outputs": [],
      "source": [
        "# dataset url\n",
        "# 'https://www.kaggle.com/c/house-prices-advanced-regression-techniques'\n",
        "\n",
        "# train = pd.read_csv('./drive/MyDrive/DOUTORADO UFMA/ESTUDO DIRIGIDO I/data/exemplos/house-prices-advanced-regression-techniques/train.csv', index_col ='Id')\n",
        "# test = pd.read_csv('./drive/MyDrive/DOUTORADO UFMA/ESTUDO DIRIGIDO I/data/exemplos/house-prices-advanced-regression-techniques/test.csv', index_col ='Id')\n",
        "\n",
        "df = pd.read_csv(\"./drive/MyDrive/DOUTORADO UFMA/ESTUDO DIRIGIDO I/data/suap/23062022/dados_caracterizacaosocial.csv\")\n",
        "\n",
        "# train = pd.read_csv(\"house-prices-advanced-regression-techniques/train.csv\", index_col ='Id')\n",
        "# test = pd.read_csv(\"house-prices-advanced-regression-techniques/test.csv\", index_col ='Id')\n",
        "\n",
        "# X = train.drop('SalePrice', axis = 1)\n",
        "# y = train['SalePrice']"
      ]
    },
    {
      "cell_type": "code",
      "execution_count": 6,
      "metadata": {
        "id": "EJm9IYyvDf6k"
      },
      "outputs": [],
      "source": [
        "# print(df.info())\n",
        "# df.shape"
      ]
    },
    {
      "cell_type": "code",
      "execution_count": 7,
      "metadata": {
        "colab": {
          "base_uri": "https://localhost:8080/"
        },
        "id": "0NRlUCDGWdYK",
        "outputId": "333f4ead-2cdf-4ae1-84b9-5689a6da1b5b"
      },
      "outputs": [
        {
          "output_type": "stream",
          "name": "stderr",
          "text": [
            "<ipython-input-7-cf8bada64839>:4: SettingWithCopyWarning: \n",
            "A value is trying to be set on a copy of a slice from a DataFrame\n",
            "\n",
            "See the caveats in the documentation: https://pandas.pydata.org/pandas-docs/stable/user_guide/indexing.html#returning-a-view-versus-a-copy\n",
            "  formados.replace(['Concluído','Formado'], 1, inplace=True) # 1 - formado\n",
            "<ipython-input-7-cf8bada64839>:9: SettingWithCopyWarning: \n",
            "A value is trying to be set on a copy of a slice from a DataFrame\n",
            "\n",
            "See the caveats in the documentation: https://pandas.pydata.org/pandas-docs/stable/user_guide/indexing.html#returning-a-view-versus-a-copy\n",
            "  evadidos.replace(['Evasão','Cancelado','Cancelamento Compulsório','Jubilado','Transferido Externo'], 0, inplace=True) # 0 - evadido\n"
          ]
        },
        {
          "output_type": "execute_result",
          "data": {
            "text/plain": [
              "1    12895\n",
              "0     5327\n",
              "Name: situacao, dtype: int64"
            ]
          },
          "metadata": {},
          "execution_count": 7
        }
      ],
      "source": [
        "# Transformando a variável-alvo\n",
        "query = ['Concluído','Formado']\n",
        "formados = df[df['situacao'].isin(query)]\n",
        "formados.replace(['Concluído','Formado'], 1, inplace=True) # 1 - formado\n",
        "\n",
        "query = ['Evasão','Cancelado','Cancelamento Compulsório','Jubilado','Transferido Externo']\n",
        "evadidos = df[df['situacao'].isin(query)]\n",
        "\n",
        "evadidos.replace(['Evasão','Cancelado','Cancelamento Compulsório','Jubilado','Transferido Externo'], 0, inplace=True) # 0 - evadido\n",
        "\n",
        "df = pd.concat([formados, evadidos])\n",
        "df.situacao.value_counts()"
      ]
    },
    {
      "cell_type": "code",
      "execution_count": 8,
      "metadata": {
        "id": "GitE4mp2MOGq"
      },
      "outputs": [],
      "source": [
        "# print(df.info())\n",
        "# df.shape"
      ]
    },
    {
      "cell_type": "code",
      "execution_count": 9,
      "metadata": {
        "id": "f3fs-Mt0RPmT"
      },
      "outputs": [],
      "source": [
        "filtro1 = df['modalidade'] == 'Concomitante'  # 1,5 anos para conclusão\n",
        "filtro2 = df['modalidade'] == 'Integrado'     # 3 anos para conclusão\n",
        "filtro3 = df['modalidade'] == 'Integrado EJA' # 3 anos para conclusão\n",
        "filtro4 = df['modalidade'] == 'Subsequente'   # 1,5 anos para conclusão\n",
        "\n",
        "df = df[filtro1 | filtro2 | filtro3 | filtro4]\n",
        "# print(df.info())\n",
        "# df.shape"
      ]
    },
    {
      "cell_type": "code",
      "execution_count": 10,
      "metadata": {
        "id": "1b4AptjndCX6"
      },
      "outputs": [],
      "source": [
        "ano_conclusao = pd.to_datetime(df['dataconclusao'],errors='coerce')\n",
        "df['ano_conclusao'] = ano_conclusao.dt.year\n",
        "\n",
        "# Preenchendo dados ausentes com 0\n",
        "# df['ano_conclusao'].fillna(df['ano_conclusao'].median(), inplace=True)\n",
        "# df['ano_conclusao'] = df['ano_conclusao'].apply(int)\n",
        "\n",
        "# Removendo linhas com ano de conclusão superior a 2022. (Foram removidas 3 linhas)\n",
        "# df = dataset[df['ano_conclusao']<2023]\n",
        "\n",
        "# Removendo coluna (s)\n",
        "# df.drop('dataconclusao', axis=1, inplace=True)"
      ]
    },
    {
      "cell_type": "markdown",
      "metadata": {
        "id": "i4eBMbxQ-AxK"
      },
      "source": [
        "### Criação da coluna 'pais_escolarizados'\n",
        "\n",
        "Criação da coluna **'pais_escolarizados'**, a partir de 3 colunas do dataset: ***'companhia_domiciliar', 'mae_nivel_escolaridade', 'pai_nivel_escolaridade'***. O objetivo é verificar a relevância desta variável na predição da variável alvo."
      ]
    },
    {
      "cell_type": "code",
      "execution_count": 11,
      "metadata": {
        "colab": {
          "base_uri": "https://localhost:8080/"
        },
        "id": "-huZUC6--AxL",
        "outputId": "735e5070-ffdc-43fb-874c-09e96679c76f"
      },
      "outputs": [
        {
          "output_type": "stream",
          "name": "stderr",
          "text": [
            "<ipython-input-11-b74c4bb3da98>:13: SettingWithCopyWarning: \n",
            "A value is trying to be set on a copy of a slice from a DataFrame.\n",
            "Try using .loc[row_indexer,col_indexer] = value instead\n",
            "\n",
            "See the caveats in the documentation: https://pandas.pydata.org/pandas-docs/stable/user_guide/indexing.html#returning-a-view-versus-a-copy\n",
            "  escola.pais_escolarizados = 0 # não escolarizado\n",
            "<ipython-input-11-b74c4bb3da98>:19: SettingWithCopyWarning: \n",
            "A value is trying to be set on a copy of a slice from a DataFrame.\n",
            "Try using .loc[row_indexer,col_indexer] = value instead\n",
            "\n",
            "See the caveats in the documentation: https://pandas.pydata.org/pandas-docs/stable/user_guide/indexing.html#returning-a-view-versus-a-copy\n",
            "  nao_informado.pais_escolarizados = 2 # não soube informar\n"
          ]
        }
      ],
      "source": [
        "### Criação da coluna 'pais_escolarizados'\n",
        "\n",
        "# Criação da coluna **'pais_escolarizados'**, a partir de 3 colunas do df: ***'companhia_domiciliar', 'mae_nivel_escolaridade', 'pai_nivel_escolaridade'***. O objetivo é verificar a relevância desta variável na predição da variável alvo.\n",
        "\n",
        "df[\"pais_escolarizados\"] = 1 # escolarizado\n",
        "\n",
        "mae = df.companhia_domiciliar == 'Mãe'\n",
        "pai = df.companhia_domiciliar == 'Pai'\n",
        "pais = df.companhia_domiciliar == 'Pais'\n",
        "mae_escolaridade = df.mae_nivel_escolaridade == \"Não Estudou\"\n",
        "pai_escolaridade = df.pai_nivel_escolaridade == \"Não Estudou\"\n",
        "escola = df[(mae | pai | pais) & (mae_escolaridade & pai_escolaridade)]\n",
        "escola.pais_escolarizados = 0 # não escolarizado\n",
        "\n",
        "nao_informado_mae = df.mae_nivel_escolaridade == \"Não sei informar\"\n",
        "nao_informado_pai = df.pai_nivel_escolaridade == \"Não sei informar\"\n",
        "nao_conhece_pai = df.pai_nivel_escolaridade == \"Não conhece\"\n",
        "nao_informado = df[nao_informado_mae | nao_informado_pai | nao_conhece_pai]\n",
        "nao_informado.pais_escolarizados = 2 # não soube informar\n",
        "\n",
        "df.pais_escolarizados.update(pd.Series(escola.pais_escolarizados, index = escola.pais_escolarizados.index.tolist()))\n",
        "df.pais_escolarizados.update(pd.Series(nao_informado.pais_escolarizados, index = nao_informado.pais_escolarizados.index.tolist()))"
      ]
    },
    {
      "cell_type": "code",
      "execution_count": 12,
      "metadata": {
        "id": "Vy6wy96s77-z"
      },
      "outputs": [],
      "source": [
        "# print(df.info())\n",
        "# df.shape"
      ]
    },
    {
      "cell_type": "markdown",
      "metadata": {
        "id": "1mOA6NKF-Lop"
      },
      "source": [
        "## Separaçãodo dataframe"
      ]
    },
    {
      "cell_type": "code",
      "execution_count": 13,
      "metadata": {
        "id": "cPXAaPY3egCx"
      },
      "outputs": [],
      "source": [
        "# print(df.info())\n",
        "# df.shape"
      ]
    },
    {
      "cell_type": "code",
      "execution_count": 14,
      "metadata": {
        "id": "g3WMKgD5dwDa"
      },
      "outputs": [],
      "source": [
        "# df['pais_escolarizados'].value_counts()"
      ]
    },
    {
      "cell_type": "code",
      "execution_count": 15,
      "metadata": {
        "id": "cNchBQ6ETaFH"
      },
      "outputs": [],
      "source": [
        "# df.isnull().sum().sort_values(ascending=False) * 100 / len(df)"
      ]
    },
    {
      "cell_type": "code",
      "execution_count": 16,
      "metadata": {
        "id": "k-5Q7fMvh8vP"
      },
      "outputs": [],
      "source": [
        "# create train & validation set\n",
        "# As colunas removidas por não se aplicarem ao contexto do dataset de treinamento\n",
        "# 'situacao' é a classe-alvo\n",
        "# as demais colunas ou são quase 100% nulas ou irrelevantes para predição ('ira' é um caso à parte, mas, excluída, no momento).\n",
        "# X = df.drop(['alunoid','ira','pontuacao_seletivo','razao_ausencia_educacional','exclusivo_rede_publica','forma_acesso_seletivo','dataconclusao','situacao'], axis = 1).copy()\n",
        "\n",
        "'''\n",
        "colunas a serem removidas, por terem mais de 20% de nulos\n",
        "pontuacao_seletivo            100.000000\n",
        "razao_ausencia_educacional     99.051976\n",
        "forma_acesso_seletivo          24.794484\n",
        "dataconclusao                  22.440997\n",
        "'''\n",
        "X = df.drop(['alunoid','ira','pontuacao_seletivo','razao_ausencia_educacional','forma_acesso_seletivo','dataconclusao','exclusivo_rede_publica','situacao'], axis = 1).copy()\n",
        "\n",
        "# X = df.drop(['alunoid','ira','exclusivo_rede_publica','situacao'], axis = 1).copy()\n",
        "# X = df.drop(['alunoid','ira','pontuacao_seletivo','razao_ausencia_educacional','exclusivo_rede_publica','situacao'], axis = 1).copy()\n",
        "# ['alunoid','ira','pontuacao_seletivo','razao_ausencia_educacional','exclusivo_rede_publica','situacao']\n",
        "y = df['situacao']\n",
        "\n",
        "# Gerando datasets de treino e teste\n",
        "X_train, X_valid, y_train, y_valid = train_test_split(X, y, test_size=0.3, random_state=42)\n"
      ]
    },
    {
      "cell_type": "code",
      "execution_count": 17,
      "metadata": {
        "id": "E9FspaMOBKk5"
      },
      "outputs": [],
      "source": [
        "# def tratando_X_trainXtest(X):\n",
        "# recuperando as colunas com valores nulos\n",
        "# colunas_com_nulos = [var for var in df.drop(['alunoid','ira','pontuacao_seletivo','razao_ausencia_educacional','exclusivo_rede_publica'], axis=1).columns if (df[var].isnull().any())]\n",
        "colunas_com_nulos = [var for var in X.columns if (X[var].isnull().any())]\n",
        "\n",
        "# Colunas numéricas com nulos\n",
        "colunas_numericas_com_nulos = [var for var in colunas_com_nulos if (X[var].dtype=='int64') | (X[var].dtype=='float64')]\n",
        "\n",
        "# Colunas categóricas com nulos\n",
        "colunas_categoricas_com_nulos = [var for var in colunas_com_nulos if (X[var].dtype=='object') | (X[var].dtype=='bool')]\n",
        "\n",
        "# verificando o tipo das colunas com valores nulos\n",
        "# for coluna in colunas_com_nulos:\n",
        "#   print('{}: {}'.format(coluna, df[coluna].dtype))\n",
        "\n",
        "# ====================================================================================================================== #\n",
        "\n",
        "## Selecting categorical and numeric features\n",
        "# numerical_cols = X.select_dtypes(include=np.number).columns\n",
        "# categories_cols = X.drop(['genero', 'raca', 'estado_civil'], axis=1).select_dtypes(exclude=np.number).columns\n",
        "\n",
        "# list for numerical columns\n",
        "numerical_cols = [var for var in X if (X[var].dtype=='int64') | (X[var].dtype=='float64')]\n",
        "# numerical_cols = [var for var in df.drop(['alunoid','ira','pontuacao_seletivo','razao_ausencia_educacional','exclusivo_rede_publica','situacao'], axis=1) if (df[var].dtype=='int64') | (df[var].dtype=='float64')]\n",
        "\n",
        "# list for one hot encoding columns\n",
        "ohe_cols = ['genero', 'raca', 'estado_civil']\n",
        "le_cols = [var for var in X.columns if (X[var].dtype=='object') | (X[var].dtype=='bool')]\n",
        "# le_cols = [var for var in df.drop(['alunoid','ira','genero', 'raca', 'estado_civil','pontuacao_seletivo','razao_ausencia_educacional','exclusivo_rede_publica'], axis=1).columns if (df[var].dtype=='object') | (df[var].dtype=='bool')]\n",
        "\n",
        "le_cols = list(set(le_cols) - set(ohe_cols))\n",
        "\n",
        "# list for categorical columns\n",
        "categories_cols = [var for var in X.columns if (X[var].dtype=='object') | (X[var].dtype=='bool')]\n",
        "\n",
        "# return numerical_cols, categories_cols, ohe_cols, le_cols"
      ]
    },
    {
      "cell_type": "code",
      "execution_count": 18,
      "metadata": {
        "id": "8u8P4ityClxW"
      },
      "outputs": [],
      "source": [
        "# numerical_cols, categories_cols, ohe_cols, le_cols = tratando_dataset_trainXtest(X_train)\n",
        "\n",
        "# print(len(numerical_cols),\"=>\",numerical_cols)\n",
        "# print(len(categories_cols),\"=>\",categories_cols)\n",
        "# print(len(ohe_cols),\"=>\",ohe_cols)\n",
        "# print(len(le_cols),\"=>\",le_cols)\n",
        "\n",
        "# numerical_cols, categories_cols, ohe_cols, le_cols = tratando_dataset_trainXtest(X_valid)"
      ]
    },
    {
      "cell_type": "code",
      "execution_count": 19,
      "metadata": {
        "id": "v3GqJ3hc5yGf"
      },
      "outputs": [],
      "source": [
        "# X.shape"
      ]
    },
    {
      "cell_type": "code",
      "execution_count": 20,
      "metadata": {
        "id": "tgyZcHoMmtcf"
      },
      "outputs": [],
      "source": [
        "# y.value_counts()"
      ]
    },
    {
      "cell_type": "code",
      "execution_count": 21,
      "metadata": {
        "id": "VtUSgGwn9C63"
      },
      "outputs": [],
      "source": [
        "# check pattern of missingness\n",
        "# msno.matrix(X.iloc[:,:10])\n",
        "# msno.matrix(X.iloc[:,10:])"
      ]
    },
    {
      "cell_type": "code",
      "execution_count": 22,
      "metadata": {
        "id": "nWuLQiJHkbmH"
      },
      "outputs": [],
      "source": [
        "# msno.bar(X)"
      ]
    },
    {
      "cell_type": "code",
      "execution_count": 23,
      "metadata": {
        "id": "KyTMNKm_ChC-"
      },
      "outputs": [],
      "source": [
        "# msno.heatmap(X)"
      ]
    },
    {
      "cell_type": "code",
      "execution_count": 24,
      "metadata": {
        "id": "bpDMYjEeA-Ak"
      },
      "outputs": [],
      "source": [
        "import seaborn as sns\n",
        "# import matplotlib.pyplot as plt\n",
        "\n",
        "# g = sns.clustermap(X[numerical_cols].corr(),\n",
        "#                    method = 'complete',\n",
        "#                    cmap   = 'RdBu',\n",
        "#                    annot  = True,\n",
        "#                    annot_kws = {'size': 8})\n",
        "# plt.setp(g.ax_heatmap.get_xticklabels(), rotation=60);"
      ]
    },
    {
      "cell_type": "markdown",
      "metadata": {
        "id": "Xind60IzEiNX"
      },
      "source": [
        "## Step 1: Structure a workflow systematically before writing any pipeline code\n",
        "\n",
        "In this experiments, the preprocessing steps are categorised into 3 following sections:-\n",
        "\n",
        "<ol>\n",
        "  <li> Filtering\n",
        "    <ul>\n",
        "      <li>Drop columns with more than 50% of missingness</li>\n",
        "      <li>Select numerical / category features depending on the pipeline flow</li>\n",
        "    </ul>\n",
        "  </li>\n",
        "  <li> Missingness Treatment\n",
        "    <ul>\n",
        "      <li>Median imputation for numerical features</li>\n",
        "      <li>Most frequent imputation for categorical features</li>\n",
        "    </ul>\n",
        "  </li>\n",
        "  <li> Feature Engineering\n",
        "    <ul>\n",
        "      <li>Create practical and predictive features using domain knowledge (e.g. adding all bathrooms). Full details check on this link.</li>\n",
        "      <li>Encode all categorical features’ items with less than 20% frequency as 'rare'.</li>\n",
        "      <li>One hot encoding all categories features at last step of preprocessing in categorical pipeline.</li>\n",
        "    </ul>\n",
        "  </li>\n",
        "</ol>"
      ]
    },
    {
      "cell_type": "code",
      "execution_count": 24,
      "metadata": {
        "id": "Tt7kvT8wUMtm"
      },
      "outputs": [],
      "source": []
    },
    {
      "cell_type": "markdown",
      "metadata": {
        "id": "_WYuQ0APJ0W7"
      },
      "source": [
        "## Step 2: Create custom transformers in pipeline\n",
        "\n",
        "<b>These are 4 configurations that I always used when creating custom transformer</b>\n",
        "<ul>\n",
        "<li>Add <i>BaseEstimator</i> & <i>TransformerMixinto</i> inherit get_params and fit_transform function. Personally, I always use fit_transform when I need to have a quick view on the output.</li>\n",
        "<li>Defineself.variablesattributes so that you can easily select which columns to be applied on later</li>\n",
        "<li>Definefitmethod. Depending on the transformation, if it doesn’t require fitting, just create a dummy fit function.</li>\n",
        "<li>Definetransformmethod. This is used to transform original dataset to modified dataset based on your transformation method.</li>"
      ]
    },
    {
      "cell_type": "markdown",
      "metadata": {
        "id": "uJ6TpYcRNrc2"
      },
      "source": [
        "## Step 3: Apply modular approach when creating pipelines"
      ]
    },
    {
      "cell_type": "markdown",
      "metadata": {
        "id": "iBvFVIaXQQLV"
      },
      "source": [
        "### Custom transformers\n",
        "\n",
        "Following step 1 & 2, we will create 6 custom transformers in order for the pipeline to work.\n",
        "\n",
        "<ul>\n",
        "  <li><strong>DropFeatureSelector</strong>: Drop columns based on names</li>\n",
        "  <li><strong>FeatureSelector</strong>: Select columns based on names</li>\n",
        "  <li><strong>SimpleImputerCustom</strong>: Improvise onsklearn.impute.SimpleImputer function so it returns as dataframe instead of np.array.</li>\n",
        "  <li><strong>DomainNumFE</strong>: Feature engineering technique for numerical features based on domain knowledge</li>\n",
        "  <li><strong>OneHotEncoderCustom</strong>: Improvise onsklearn.preprocessing.OneHotEncoder function so it returns as dataframe instead of np.array.</li>\n",
        "  <li><strong>DomainCatFE</strong>: Feature engineering technique for categorical features based on domain knowledge</li>\n",
        "</ul>"
      ]
    },
    {
      "cell_type": "code",
      "execution_count": 25,
      "metadata": {
        "id": "NFRb7UQPPwAE"
      },
      "outputs": [],
      "source": [
        "# from sklearn.base import BaseEstimator\n",
        "from sklearn.linear_model import LogisticRegression\n",
        "from sklearn.feature_selection import SelectPercentile, chi2\n",
        "# from sklearn.svm import SVC\n",
        "\n",
        "# create custom transformer\n",
        "class DropFeatureSelector(BaseEstimator, TransformerMixin):\n",
        "    def __init__(self, variables):\n",
        "        self.variables = variables\n",
        "    def fit(self, X, y = None):\n",
        "        return self\n",
        "    def transform(self, X):\n",
        "        # self.imprime(X)\n",
        "        X_dropped = X.drop(self.variables, axis = 1)\n",
        "        # self.imprime(X_dropped)\n",
        "        return X_dropped\n",
        "    def imprime(self,X):\n",
        "      print('drop feature')\n",
        "      print(X.shape)\n",
        "\n",
        "class FeatureSelector(BaseEstimator, TransformerMixin):\n",
        "    def __init__(self, variables):\n",
        "        self.variables = variables\n",
        "    def fit(self, X, y = None):\n",
        "        return self\n",
        "    def transform(self, X):\n",
        "        return X.loc[:,self.variables]\n",
        "\n",
        "class SimpleImputerCustom(BaseEstimator, TransformerMixin):\n",
        "    def __init__(self, variables, strategy):\n",
        "        self.variables = variables\n",
        "        self.strategy = strategy\n",
        "        self.imp = SimpleImputer(missing_values=np.nan,\n",
        "                    strategy=self.strategy)\n",
        "    def fit(self, X, y = None):\n",
        "        X_ = X.loc[:,self.variables]\n",
        "        self.imp.fit(X_)\n",
        "        return self\n",
        "    def transform(self, X):\n",
        "        X_ = X.loc[:,self.variables]\n",
        "        # self.imprime(X_)\n",
        "        X_transformed = pd.DataFrame(self.imp.transform(X_),\n",
        "                         columns= self.variables)\n",
        "        X.drop(self.variables, axis= 1, inplace=True)\n",
        "        X[self.variables] = X_transformed[self.variables].values\n",
        "        # self.imprime(X)\n",
        "        return X\n",
        "\n",
        "    def imprime(self,X):\n",
        "      print('imputer')\n",
        "      print(len(X))\n",
        "\n",
        "class CreateColumnAnoConclusao(BaseEstimator, TransformerMixin):\n",
        "    def __init__(self, variables = None):\n",
        "        self.variables = variables\n",
        "    def fit(self, X, y =None):\n",
        "        return self\n",
        "    def transform(self, X):\n",
        "        # source: https://www.kaggle.com/lavanyashukla01/how-i-made-top-0-3-on-a-kaggle-competition#Feature-Engineering\n",
        "\n",
        "        ano_conclusao = pd.to_datetime(X['dataconclusao'],errors='coerce')\n",
        "        X['ano_conclusao'] = ano_conclusao.dt.year\n",
        "\n",
        "        # Preenchendo dados ausentes com 0\n",
        "        X['ano_conclusao'].fillna(0, inplace=True)\n",
        "        X['ano_conclusao'] = X['ano_conclusao'].apply(int)\n",
        "\n",
        "        # Removendo linhas com ano de conclusão superior a 2022. (Foram removidas 3 linhas)\n",
        "        # X = X[X['ano_conclusao']<2023]\n",
        "        X = X[X['ano_conclusao']]\n",
        "\n",
        "        # Removendo coluna (s)\n",
        "        X.drop('dataconclusao', axis=1, inplace=True)\n",
        "\n",
        "        return X\n",
        "\n",
        "class ModificaRaca(BaseEstimator, TransformerMixin):\n",
        "    def __init__(self, variables = None):\n",
        "        self.variables = variables\n",
        "    def fit(self, X, y =None):\n",
        "        return self\n",
        "    def transform(self, X):\n",
        "        # source: https://www.kaggle.com/lavanyashukla01/how-i-made-top-0-3-on-a-kaggle-competition#Feature-Engineering\n",
        "\n",
        "        # Alterando valores da coluna 'raca'\n",
        "        X.loc[X.raca == \"branca\",\"raca\"]=\"Branca\"\n",
        "        X.loc[X.raca == \"BRANCA\",\"raca\"]=\"Branca\"\n",
        "        X.loc[X.raca == \"PARDA\",\"raca\"]=\"Parda\"\n",
        "        X.loc[X.raca == \"parda\",\"raca\"]=\"Parda\"\n",
        "        X.loc[X.raca == \"indígena\",\"raca\"]=\"Indigena\"\n",
        "        X.loc[X.raca == \"INDIGENA\",\"raca\"]=\"Indigena\"\n",
        "        X.loc[X.raca == \"Indígena\",\"raca\"]=\"Indigena\"\n",
        "        X.loc[X.raca == \"PRETA\",\"raca\"]=\"Preta\"\n",
        "        X.loc[X.raca == \"preta\",\"raca\"]=\"Preta\"\n",
        "        X.loc[X.raca == \"AMARELA\",\"raca\"]=\"Amarela\"\n",
        "        X.loc[X.raca == \"amarela\",\"raca\"]=\"Amarela\"\n",
        "        X.loc[X.raca == \"NAO INFORMADO\",\"raca\"]=\"Não Informado\"\n",
        "\n",
        "        return X\n",
        "\n",
        "class LabelEncoderCustom(BaseEstimator, TransformerMixin):\n",
        "  def __init__(self, variables):\n",
        "        self.variables = variables\n",
        "  def fit(self, X, y=None):\n",
        "   return self\n",
        "  def transform(self, X ,y=None):\n",
        "    le=LabelEncoder()\n",
        "    for i in X[self.variables]:\n",
        "      X[i]=le.fit_transform(X[i])\n",
        "    # self.imprime(X)\n",
        "    return X\n",
        "  def imprime(self,X):\n",
        "      print('label encoder')\n",
        "      print(X.info())\n",
        "      print(X.campus.value_counts())\n",
        "\n",
        "class OneHotEncoderCustom(BaseEstimator, TransformerMixin):\n",
        "    def __init__(self, variables):\n",
        "        self.variables = variables\n",
        "        # self.ohe = OneHotEncoder(drop='first', handle_unknown = 'ignore')\n",
        "        self.ohe = OneHotEncoder(handle_unknown = 'ignore')\n",
        "\n",
        "    def fit(self, X, y = None):\n",
        "        X_ = X.loc[:,self.variables]\n",
        "        self.ohe.fit(X_)\n",
        "        return self\n",
        "\n",
        "    def transform(self, X):\n",
        "        # self.imprime(X)\n",
        "        X_ = X.loc[:,self.variables]\n",
        "        # get one-hot encoded feature in df format\n",
        "        X_transformed = pd.DataFrame(self.ohe.transform(X_).toarray(), columns= self.ohe.get_feature_names_out())\n",
        "\n",
        "        # Remove columns that are one hot encoded in original df\n",
        "        X.drop(self.variables, axis= 1, inplace=True)\n",
        "\n",
        "        # Add one hot encoded feature to original df\n",
        "        X[self.ohe.get_feature_names_out()] = X_transformed[self.ohe.get_feature_names_out()].values\n",
        "        # print(X)\n",
        "        # self.imprime(X)\n",
        "        return X\n",
        "\n",
        "    def get_feature_names_out(self):\n",
        "      return self.ohe.get_feature_names_out()\n",
        "\n",
        "    def imprime(self,X):\n",
        "      print('one-hot encoder')\n",
        "      # detalhes_dataset_tratado(X)\n",
        "\n",
        "# OUTRA PROPOSTA DE CUSTOM PIPELINE PARA TRATAMENTO DE OUTILIERS\n",
        "class OutlierReplace(BaseEstimator,TransformerMixin):\n",
        "    def __init__(self,factor=2):\n",
        "        self.factor = factor\n",
        "\n",
        "    def outlier_detector(self,X,y=None):\n",
        "        X = pd.Series(X).copy()\n",
        "        q1 = X.quantile(0.25)\n",
        "        q3 = X.quantile(0.75)\n",
        "        iqr = q3 - q1\n",
        "        self.lower_bound.append(q1 - (self.factor * iqr))\n",
        "        self.upper_bound.append(q3 + (self.factor * iqr))\n",
        "\n",
        "    def fit(self,X,y=None):\n",
        "        # self.imprime(X)\n",
        "        self.lower_bound = []\n",
        "        self.upper_bound = []\n",
        "        X.apply(self.outlier_detector)\n",
        "        return self\n",
        "\n",
        "    def transform(self,X,y=None):\n",
        "\n",
        "        X = pd.DataFrame(X).copy()\n",
        "        for i in range(X.shape[1]):\n",
        "            x = X.iloc[:, i].copy()\n",
        "            mediana_coluna = x.median()\n",
        "            x[(x < self.lower_bound[i]) | (x > self.upper_bound[i])] = mediana_coluna\n",
        "            X.iloc[:, i] = x\n",
        "        # print(X)\n",
        "        # self.imprime(X)\n",
        "        return X\n",
        "\n",
        "    # def imprime(self,X):\n",
        "    #   print('outlier')\n",
        "    #   print(X.shape)\n",
        "\n",
        "class ClfSwitcher(BaseEstimator):\n",
        "    def __init__(self, estimator = LogisticRegression()):\n",
        "        \"\"\"\n",
        "        A Custom BaseEstimator that can switch between classifiers.\n",
        "        :param estimator: sklearn object - The classifier\n",
        "        \"\"\"\n",
        "        self.estimator = estimator\n",
        "\n",
        "    def fit(self, X, y=None, **kwargs):\n",
        "        self.estimator.fit(X, y)\n",
        "        return self\n",
        "\n",
        "    def predict(self, X, y=None):\n",
        "        return self.estimator.predict(X)\n",
        "\n",
        "    def predict_proba(self, X):\n",
        "        return self.estimator.predict_proba(X)\n",
        "\n",
        "    def score(self, X, y):\n",
        "        return self.estimator.score(X, y)\n",
        "\n",
        "# ------------------------------------------------------------------------------- #\n",
        "# Custom class to allow shape of transformed x to be known to classifier\n",
        "class ANOVASelection(BaseEstimator, TransformerMixin):\n",
        "    def __init__(self, percentile=10):\n",
        "        self.percentile = percentile\n",
        "        self.m = None\n",
        "        self.X_new = None\n",
        "        self.scores_ = None\n",
        "\n",
        "    def fit(self, X, y):\n",
        "        self.m = SelectPercentile(f_classif, self.percentile)\n",
        "        self.m.fit(X,y)\n",
        "        self.scores_ = self.m.scores_\n",
        "        return self\n",
        "\n",
        "    def transform(self, X):\n",
        "        global X_new\n",
        "        self.X_new = self.m.transform(X)\n",
        "        X_new = self.X_new\n",
        "        return self.X_new\n",
        "\n",
        "# ------------------------------------------------------------------------------- #\n",
        "\n",
        "# def atualiza_dataset(X):\n",
        "#   # print(X)\n",
        "#   X_ = X\n",
        "\n",
        "# class OneHotEncodercustom(BaseEstimator, TransformerMixin):\n",
        "#     def __init__(self, variables):\n",
        "#         self.variables = variables\n",
        "#         self.ohe = OneHotEncoder(drop='first',\n",
        "#             handle_unknown = 'ignore')\n",
        "#     def fit(self, X, y = None):\n",
        "#         X_ = X.loc[:,self.variables]\n",
        "#         self.ohe.fit(X_)\n",
        "#         return self\n",
        "#     def transform(self, X):\n",
        "#         X_ = X.loc[:,self.variables]\n",
        "#         X_transformed = pd.DataFrame(self.ohe.transform(X_).toarray(),\n",
        "#             columns= self.ohe.get_feature_names_out())\n",
        "#         X.drop(self.variables, axis= 1, inplace=True)\n",
        "#         X[self.ohe.get_feature_names_out()] = X_transformed[self.ohe.get_feature_names_out()].values\n",
        "\n",
        "#         return X\n",
        "\n",
        "# ------------------------------------------------------------------------------------------------------\n",
        "\n",
        "# class DomainCatFE(BaseEstimator, TransformerMixin):\n",
        "#     def __init__(self, variables = None):\n",
        "#         self.variables = variables\n",
        "#     def fit(self, X, y =None):\n",
        "#         return self\n",
        "#     def transform(self, X):\n",
        "#       # source: https://www.kaggle.com/lavanyashukla01/how-i-made-top-0-3-on-a-kaggle-competition#Feature-Engineering\n",
        "#       X_ = X.copy()\n",
        "#       X_['BsmtFinType1_Unf'] = 1*(X_['BsmtFinType1'] == 'Unf')\n",
        "#       X_['Total_Bathrooms'] = (X_['FullBath'] + (0.5 * X_['HalfBath'])\n",
        "#           + X_['BsmtFullBath'] + (0.5 * X_['BsmtHalfBath']))\n",
        "#       X_['GarageCars'] = X_['GarageCars'].apply(lambda x: 0\n",
        "#           if x <= 0.0 else x)\n",
        "#       X_['hasfireplace'] = X_['Fireplaces'].apply(lambda x: 1\n",
        "#           if x > 0 else 0)\n",
        "#       return X_\n",
        "\n",
        "# ------------------------------------------------------------------------------------------------------\n",
        "\n",
        "# class CourseSituationFilter(BaseEstimator, TransformerMixin):\n",
        "#     def __init__(self, variables = None):\n",
        "#         self.variables = variables\n",
        "#     def fit(self, X, y =None):\n",
        "#         return self\n",
        "#     def transform(self, X):\n",
        "#         # source: https://www.kaggle.com/lavanyashukla01/how-i-made-top-0-3-on-a-kaggle-competition#Feature-Engineering\n",
        "\n",
        "#         query = ['Concluído','Formado']\n",
        "#         formados = X[X['situacao'].isin(query)]\n",
        "#         formados.replace(['Concluído','Formado'], 1, inplace=True) # 1 - formado\n",
        "\n",
        "#         query = ['Evasão','Cancelado','Cancelamento Compulsório','Jubilado','Transferido Externo']\n",
        "#         evadidos = X[X['situacao'].isin(query)]\n",
        "\n",
        "#         evadidos.replace(['Evasão','Cancelado','Cancelamento Compulsório','Jubilado','Transferido Externo'], 0, inplace=True) # 0 - evadido\n",
        "\n",
        "#         X_ = pd.concat([formados, evadidos])\n",
        "\n",
        "#         return X_\n",
        "\n",
        "# ------------------------------------------------------------------------------------------------------\n",
        "\n",
        "# class CourseModalityFilter(BaseEstimator, TransformerMixin):\n",
        "#     def __init__(self, variables = None):\n",
        "#         self.variables = variables\n",
        "#     def fit(self, X, y =None):\n",
        "#         return self\n",
        "#     def transform(self, X):\n",
        "#         # self.imprime(X)\n",
        "#         # source: https://www.kaggle.com/lavanyashukla01/how-i-made-top-0-3-on-a-kaggle-competition#Feature-Engineering\n",
        "\n",
        "#         filtro1 = X['modalidade'] == 'Concomitante'  # 1,5 anos para conclusão\n",
        "#         filtro2 = X['modalidade'] == 'Integrado'     # 3 anos para conclusão\n",
        "#         filtro3 = X['modalidade'] == 'Integrado EJA' # 3 anos para conclusão\n",
        "#         filtro4 = X['modalidade'] == 'Subsequente'   # 1,5 anos para conclusão\n",
        "\n",
        "#         X_ = X[filtro1 | filtro2 | filtro3 | filtro4]\n",
        "#         # self.imprime(X_)\n",
        "#         return X_\n",
        "\n",
        "#     def imprime(self,X):\n",
        "#       print('modalidade')\n",
        "#       print(X.shape)\n",
        "\n",
        "# ------------------------------------------------------------------------------------------------------\n",
        "\n",
        "# class OutlierRemover(BaseEstimator,TransformerMixin):\n",
        "#     def __init__(self, factor=1.5):\n",
        "#         self.factor = factor\n",
        "\n",
        "#     def outliers_iqr(self, X, y=None):\n",
        "#         X = pd.Series(X).copy()\n",
        "#         q1 = X.quantile(0.25)\n",
        "#         q3 = X.quantile(0.75)\n",
        "#         iqr = q3 - q1\n",
        "#         lower_bound = q1 - (iqr * self.factor)\n",
        "#         upper_bound = q3 + (iqr * self.factor)\n",
        "#         # filter only those rows that are greater than lower_bound and less than upper_bound,\n",
        "#         #i.e. drop values outside the given interval\n",
        "#         X.loc[((X >= lower_bound) & (X <= upper_bound))]\n",
        "\n",
        "#         return pd.Series(X)\n",
        "\n",
        "#     def fit(self, X, y=None):\n",
        "#         return self\n",
        "\n",
        "#     def transform(self, X):\n",
        "#         return X.apply(self.outliers_iqr)\n",
        "\n",
        "# ------------------------------------------------------------------------------------------------------\n",
        "\n",
        "# class OutlierReplace(BaseEstimator,TransformerMixin):\n",
        "#     def __init__(self,factor=1.5):\n",
        "#         self.factor = factor\n",
        "\n",
        "#     def outlier_removal(self,X,y=None):\n",
        "#         X = pd.Series(X).copy()\n",
        "#         print(X)\n",
        "#         q1 = X.quantile(0.25)\n",
        "#         q3 = X.quantile(0.75)\n",
        "#         iqr = q3 - q1\n",
        "#         lower_bound = q1 - (self.factor * iqr)\n",
        "#         upper_bound = q3 + (self.factor * iqr)\n",
        "\n",
        "#         mediana_coluna = X.median()\n",
        "#         X.loc[((X < lower_bound) | (X > upper_bound))] = mediana_coluna\n",
        "#         return pd.Series(X)\n",
        "\n",
        "#     def fit(self,X,y=None):\n",
        "#         return self\n",
        "\n",
        "#     def transform(self,X,y=None):\n",
        "#         self.imprime(X)\n",
        "#         return X.apply(self.outlier_removal)\n",
        "\n",
        "#     def imprime(self,X):\n",
        "#       print('outlier')\n",
        "#       print(X.shape)\n",
        "\n",
        "# ------------------------------------------------------------------------------------------------------\n",
        "\n",
        "# class RemoveIQROutliers(BaseEstimator, TransformerMixin):\n",
        "#     def __init__(self):\n",
        "#         pass\n",
        "\n",
        "#     def fit(self, X, y=None):\n",
        "#         return self\n",
        "\n",
        "#     def transform(self, X):\n",
        "#         return X.loc[X != 'OUTLIER']"
      ]
    },
    {
      "cell_type": "markdown",
      "metadata": {
        "id": "Xu2cUf5CR_6B"
      },
      "source": [
        "### Identificando colunas com nulos"
      ]
    },
    {
      "cell_type": "code",
      "execution_count": 26,
      "metadata": {
        "id": "w2BArvIsSE_q"
      },
      "outputs": [],
      "source": [
        "# recuperando as colunas com valores nulos\n",
        "# colunas_com_nulos = [var for var in df.drop(['alunoid','ira','pontuacao_seletivo','razao_ausencia_educacional','exclusivo_rede_publica'], axis=1).columns if (df[var].isnull().any())]\n",
        "colunas_com_nulos = [var for var in X.columns if (X[var].isnull().any())]\n",
        "\n",
        "# Colunas numéricas com nulos\n",
        "colunas_numericas_com_nulos = [var for var in colunas_com_nulos if (X[var].dtype=='int64') | (X[var].dtype=='float64')]\n",
        "\n",
        "# Colunas categóricas com nulos\n",
        "colunas_categoricas_com_nulos = [var for var in colunas_com_nulos if (X[var].dtype=='object') | (X[var].dtype=='bool')]\n",
        "\n",
        "# verificando o tipo das colunas com valores nulos\n",
        "# for coluna in colunas_com_nulos:\n",
        "#   print('{}: {}'.format(coluna, df[coluna].dtype))"
      ]
    },
    {
      "cell_type": "code",
      "execution_count": 27,
      "metadata": {
        "id": "sswQLLlIEUVh"
      },
      "outputs": [],
      "source": [
        "# print(len(colunas_com_nulos),'=>',colunas_com_nulos)"
      ]
    },
    {
      "cell_type": "code",
      "execution_count": 28,
      "metadata": {
        "id": "xv47eqEoJibw"
      },
      "outputs": [],
      "source": [
        "# colunas_categoricas_com_nulos"
      ]
    },
    {
      "cell_type": "code",
      "execution_count": 29,
      "metadata": {
        "id": "I8nKdKb7KbCR"
      },
      "outputs": [],
      "source": [
        "# colunas_numericas_com_nulos"
      ]
    },
    {
      "cell_type": "markdown",
      "metadata": {
        "id": "1nYW1bM_Qo0j"
      },
      "source": [
        "### Pipeline 1 (Component A): Numerical Preprocessing Pipeline"
      ]
    },
    {
      "cell_type": "code",
      "execution_count": 30,
      "metadata": {
        "id": "3DE-XZ0sQqgm"
      },
      "outputs": [],
      "source": [
        "# drop_features = DropFeatureSelector(variables=['pontuacao_seletivo','razao_ausencia_educacional','exclusivo_rede_publica'])\n",
        "\n",
        "outlier_treatement = OutlierReplace()\n",
        "scaler = StandardScaler()\n",
        "\n",
        "num_feature_selector = FeatureSelector(variables=numerical_cols)\n",
        "\n",
        "# Tratando colunas numericas com nulos\n",
        "median_imputer = SimpleImputerCustom(variables=colunas_numericas_com_nulos,\n",
        "    strategy='median')\n",
        "\n",
        "# num_fe_domain_knowledge = DomainNumFE()\n",
        "\n",
        "# build preprocessing step for numerical data\n",
        "num_preprocessing_pipe = Pipeline(\n",
        "    steps=[\n",
        "        # ('drop_features',drop_features),\n",
        "        ('num_feature_selector', num_feature_selector),\n",
        "        ('median_imputer',median_imputer),\n",
        "        ('outliers', outlier_treatement),\n",
        "        # ('StandardScaler', scaler),\n",
        "        # ('num_fe_domain_knowledge',num_fe_domain_knowledge)\n",
        "    ]\n",
        ")"
      ]
    },
    {
      "cell_type": "markdown",
      "metadata": {
        "id": "MVnVU2JbQyJy"
      },
      "source": [
        "### Pipeline 2 (Component B): Categorical Preprocessing Pipeline"
      ]
    },
    {
      "cell_type": "code",
      "execution_count": 31,
      "metadata": {
        "id": "86qOsoQnFB4g"
      },
      "outputs": [],
      "source": [
        "# ohe_cols"
      ]
    },
    {
      "cell_type": "code",
      "execution_count": 32,
      "metadata": {
        "id": "YlZnhBKADPqt"
      },
      "outputs": [],
      "source": [
        "# categories_cols"
      ]
    },
    {
      "cell_type": "code",
      "execution_count": 33,
      "metadata": {
        "id": "-LFql7oiQ3FT"
      },
      "outputs": [],
      "source": [
        "# Filtrando o dataset por linhas\n",
        "# cat_modality_domain_knowledge = CourseModalityFilter()\n",
        "# cat_situation_domain_knowledge = CourseSituationFilter()\n",
        "\n",
        "# Alterando coluna 'raça'\n",
        "cat_raca_domain_knowledge = ModificaRaca()\n",
        "\n",
        "# Transformando a coluna data_conclusao\n",
        "cat_ano_conclusion_domain_knowledge = CreateColumnAnoConclusao()\n",
        "\n",
        "# initialise categorical preprocessing step\n",
        "cat_feature_selector = FeatureSelector(variables=categories_cols)\n",
        "\n",
        "# Tratando colunas categóricas com nulos\n",
        "mostfrequent_imputer = SimpleImputerCustom(variables=\n",
        "    colunas_categoricas_com_nulos, strategy='most_frequent')\n",
        "\n",
        "# rare_encoder = encoding.RareLabelEncoder(tol=0.20, n_categories=2,\n",
        "#     variables=ohe_cols, replace_with='rare')\n",
        "\n",
        "ohe = OneHotEncoderCustom(variables=ohe_cols)\n",
        "le = LabelEncoderCustom(variables=le_cols)\n",
        "\n",
        "# cat_fe_domain_knowledge = DomainCatFE()\n",
        "\n",
        "# build preprocessing step for categorical data\n",
        "cat_preprocessing_pipe = Pipeline(steps=[\n",
        "    # ('drop_features', drop_features),\n",
        "    (\"cat_feature_selector\", cat_feature_selector),\n",
        "    # ('cat_modality_domain_knowledge', cat_modality_domain_knowledge), # se aplicar este transformador muitas instâncias serão removidas e dá erro na quantidade de instâncias de treino inicial e a atual\n",
        "    # ('cat_situation_domain_knowledge', cat_situation_domain_knowledge),\n",
        "    ('cat_raca_domain_knowledge', cat_raca_domain_knowledge),\n",
        "    # ('cat_ano_conclusion_domain_knowledge', cat_ano_conclusion_domain_knowledge),\n",
        "    # ('mostfrequent_imputer',mostfrequent_imputer),\n",
        "    # # ('cat_fe_domain_knowledge',cat_fe_domain_knowledge),\n",
        "    # # ('rare_encoder',rare_encoder),\n",
        "    ('ohe',ohe),\n",
        "    ('le',le),\n",
        "    ('outliers', outlier_treatement),\n",
        "    # ('StandardScaler', scaler),\n",
        "])"
      ]
    },
    {
      "cell_type": "markdown",
      "metadata": {
        "id": "4-JHzs4tRA1H"
      },
      "source": [
        "### Pipeline 3 (Component A + B): Numerical & Categorical Combined Pipeline\n",
        "\n",
        "<b>FeatureUnion</b> is used to combine numerical & categorical pipeline together. In doing so, both pipelines will run in parallel instead of sequential."
      ]
    },
    {
      "cell_type": "code",
      "execution_count": 34,
      "metadata": {
        "id": "d9eHx85PRNHr"
      },
      "outputs": [],
      "source": [
        "# initialise categorical preprocessing step\n",
        "combined_preprocessing = FeatureUnion(transformer_list = [\n",
        "    ('numericals', num_preprocessing_pipe),\n",
        "    ('categoricals', cat_preprocessing_pipe),\n",
        "    # ('StandardScaler', StandardScaler()),\n",
        "])"
      ]
    },
    {
      "cell_type": "markdown",
      "metadata": {
        "id": "UcyGQNB7qlQb"
      },
      "source": [
        "## [APAGAR] - Fazendo as transformações nos conjuntos de treinamento e teste e salvando em disco."
      ]
    },
    {
      "cell_type": "markdown",
      "metadata": {
        "id": "KAbUnClzshSI"
      },
      "source": [
        "##### Geração dos Conjuntos de Treinamento e Teste, transformados"
      ]
    },
    {
      "cell_type": "code",
      "execution_count": 35,
      "metadata": {
        "id": "MJeubh0LshSJ"
      },
      "outputs": [],
      "source": [
        "def getXTrain_XValid_(combined_preprocessing_, X_train_, X_valid_):\n",
        "  # combined_preprocessing_.fit_transform(X_train_) # não executar este comando se tiver o parâmetro combined_preprocessing_ na função\n",
        "\n",
        "  cat_columns = combined_preprocessing_.transformer_list[1][1][2].get_feature_names_out()\n",
        "  columns = np.append(numerical_cols, cat_columns)\n",
        "  columns = np.append(columns, le_cols)\n",
        "\n",
        "  X_train_transform = pd.DataFrame(combined_preprocessing_.transform(X_train_), columns=columns)\n",
        "  X_valid_transform = pd.DataFrame(combined_preprocessing_.transform(X_valid_), columns=columns)\n",
        "\n",
        "  return X_train_transform, X_valid_transform"
      ]
    },
    {
      "cell_type": "markdown",
      "metadata": {
        "id": "sMUjJIWaKTTc"
      },
      "source": [
        "##### Salvando os datasets em disco"
      ]
    },
    {
      "cell_type": "code",
      "execution_count": 36,
      "metadata": {
        "id": "7RYByP61KYiu"
      },
      "outputs": [],
      "source": [
        "# path_dataset = \"./drive/MyDrive/DOUTORADO UFMA/ESTUDO DIRIGIDO I/data/suap/23062022/\""
      ]
    },
    {
      "cell_type": "code",
      "execution_count": 37,
      "metadata": {
        "id": "l-92CFKfKmlK"
      },
      "outputs": [],
      "source": [
        "# X_trasnform_full.to_csv(path_dataset+\"X_trasnform_full.csv\")\n",
        "# y_full.to_csv(path_dataset+\"y_full.csv\")\n",
        "\n",
        "# X_train_transform.to_csv(path_dataset+\"X_train_transform.csv\")\n",
        "# X_valid_transform.to_csv(path_dataset+\"X_valid_transform.csv\")"
      ]
    },
    {
      "cell_type": "markdown",
      "metadata": {
        "id": "bldlza3VrZIM"
      },
      "source": [
        "# Criação dos modelos de ML"
      ]
    },
    {
      "cell_type": "markdown",
      "metadata": {
        "id": "2BWxdTDDPbkO"
      },
      "source": [
        "##Imports"
      ]
    },
    {
      "cell_type": "code",
      "execution_count": 38,
      "metadata": {
        "id": "og7k9mtVVYKw"
      },
      "outputs": [],
      "source": [
        "from sklearn.pipeline import Pipeline\n",
        "from sklearn.metrics import mean_absolute_error, mean_squared_error, r2_score, accuracy_score, f1_score, precision_score, recall_score, classification_report, roc_auc_score, roc_curve, auc\n",
        "\n",
        "import matplotlib.pyplot as plt\n",
        "from sklearn.metrics import RocCurveDisplay\n",
        "import seaborn as sns\n",
        "\n",
        "# Display pipeline\n",
        "from sklearn.feature_selection import VarianceThreshold\n",
        "\n",
        "from sklearn import set_config\n",
        "set_config(display='diagram')\n",
        "\n",
        "# from sklearn.metrics import ConfusionMatrixDisplay\n",
        "from sklearn import metrics\n",
        "from sklearn.metrics import confusion_matrix, classification_report, roc_curve, accuracy_score\n",
        "\n",
        "from sklearn.feature_selection import SelectKBest,f_classif,chi2,mutual_info_classif\n",
        "from sklearn.model_selection import StratifiedKFold, cross_val_score\n",
        "from sklearn.model_selection import cross_validate\n",
        "\n",
        "from sklearn.metrics import ConfusionMatrixDisplay\n",
        "\n",
        "from sklearn.linear_model import LogisticRegression\n",
        "from sklearn.naive_bayes import GaussianNB\n",
        "from sklearn.neighbors import KNeighborsClassifier\n",
        "from xgboost import XGBClassifier\n",
        "from sklearn.tree import DecisionTreeClassifier\n",
        "from sklearn.ensemble import (\n",
        "    RandomForestClassifier,\n",
        "    AdaBoostClassifier,\n",
        "    GradientBoostingClassifier,\n",
        ")\n",
        "\n",
        "import numpy as np\n",
        "\n",
        "from sklearn.model_selection import GridSearchCV\n",
        "from sklearn.svm import SVC\n",
        "\n",
        "import re"
      ]
    },
    {
      "cell_type": "markdown",
      "metadata": {
        "id": "ijiKWCbtme8a"
      },
      "source": [
        "##Informações do Modelo de ML gerado"
      ]
    },
    {
      "cell_type": "code",
      "execution_count": 39,
      "metadata": {
        "id": "dIJ1UzpBiNt8"
      },
      "outputs": [],
      "source": [
        "# Function created to create a multiple bar chart comparing actual vs predicted claims by deciles\n",
        "def plot_avepp(df, expected, actual):\n",
        "    avepp = df.assign(\n",
        "        model_bands=pd.qcut(df[expected], 9, labels=np.arange(10), duplicates='drop'),\n",
        "    ).groupby(\"model_bands\")[[expected, actual]].agg(\"sum\").reset_index()\n",
        "    n = avepp[\"model_bands\"].max()\n",
        "    width = 0.35\n",
        "    ax = plt.subplot(111)\n",
        "    pred_fig = ax.bar(np.arange(n) + width, avepp[expected], width)\n",
        "    actual_fig = ax.bar(np.arange(n), avepp[actual], width)\n",
        "    ax.set_title(\"AvE Decile Plot\")\n",
        "    ax.set_xticks(np.arange(n) + width / 2)\n",
        "    ax.set_xticklabels(np.arange(n) + 1)\n",
        "    ax.legend((pred_fig[0], actual_fig[0]), (\"Pred\", \"Actual\"))\n",
        "    plt.show()"
      ]
    },
    {
      "cell_type": "code",
      "execution_count": 40,
      "metadata": {
        "id": "97mD_EOIjwI3"
      },
      "outputs": [],
      "source": [
        "def plot_model_details(ncm, name, model, X_valid_, train_pred, valid_pred, y_train_, y_valid_):\n",
        "    # Evaluate model performance\n",
        "    print()\n",
        "    print('*' * 30)\n",
        "    print(f'{name}\\n\\nTraining score:')\n",
        "    print(f'MAE: {round(mean_absolute_error(y_train_, train_pred),2)} | RMSE: {round(mean_squared_error(y_train_, train_pred, squared=False),2)} | R2: {round(r2_score(y_train_, train_pred),2)}')\n",
        "    print('-' * 40)\n",
        "    print('Validation score:')\n",
        "    print(f'MAE: {round(mean_absolute_error(y_valid_, valid_pred),2)} | RMSE: {round(mean_squared_error(y_valid_, valid_pred, squared=False),2)} | R2: {round(r2_score(y_valid_, valid_pred),2)}')\n",
        "\n",
        "    if ncm == \"Tree Based ML\":\n",
        "      print(\"\\nEstatísticas do Treinamento\")\n",
        "\n",
        "      relatorio = classification_report(y_train_, train_pred)\n",
        "      print(relatorio)\n",
        "\n",
        "      print(\"Estatísticas da Validação\")\n",
        "      print(classification_report(y_valid_, valid_pred))\n",
        "\n",
        "      print(\"Matriz de Confusão do Treinamento\")\n",
        "      cm = confusion_matrix(y_train_, train_pred)\n",
        "      cm_display = ConfusionMatrixDisplay(cm).plot()\n",
        "      plt.show()\n",
        "\n",
        "      print(\"Matriz de Confusão da Validação\")\n",
        "      cm = confusion_matrix(y_valid_, valid_pred)\n",
        "      cm_display = ConfusionMatrixDisplay(cm).plot()\n",
        "      plt.show()\n",
        "\n",
        "      # relatorio = classification_report(y_valid_, valid_pred, output_dict=True)\n",
        "      # relatorio = classification_report(y_valid_, valid_pred)\n",
        "      # print(relatorio)\n",
        "      # y = list(relatorio['macro avg'].values())\n",
        "    else:\n",
        "      # import tensorflow as tf\n",
        "      # import seaborn as sns; sns.set()\n",
        "\n",
        "      # feats = model.feature_importances_\n",
        "      # print(\"Features selecionadas: {}\".format())\n",
        "      # print(X_valid_.shape)\n",
        "      # X_valid_1 = X_valid_[list(X_valid_.columns[feats].to_list())]\n",
        "      # print(X_valid_1.shape)\n",
        "\n",
        "      # # evaluate the model with confusion matrix\n",
        "      # predicoes = model.predict(X_valid_)\n",
        "      # predicoes_ = []\n",
        "\n",
        "      # for i in range(len(predicoes)):\n",
        "      #   predicoes_.append(np.argmax(predicoes[i]))\n",
        "      # mat = tf.math.confusion_matrix(y_valid_, predicoes_)\n",
        "\n",
        "      # sns.heatmap(mat, square=True, annot=True, fmt='d', cbar=False)\n",
        "      # plt.xticks([0,1], ['Evadido', 'Formado'])\n",
        "      # plt.yticks([0,1], ['Evadido', 'Formado'])\n",
        "      # plt.xlabel('True label')\n",
        "      # plt.ylabel('Predicted label')\n",
        "\n",
        "      # y_pred = model.predict(valid_pred)\n",
        "      valid_pred = valid_pred.flatten()\n",
        "      print(valid_pred.round(2))\n",
        "      # [1. 0.01 0.91 0.87 0.06 0.95 0.24 0.58 0.78 ...\n",
        "\n",
        "      # extract the predicted class labels\n",
        "      y_pred = np.where(valid_pred > 0.5, 1, 0)\n",
        "      print(valid_pred)\n",
        "      # [1 0 1 1 0 1 0 1 1 0 0 0 0 1 1 0 1 0 0 0 0 ...\n",
        "\n",
        "      print(confusion_matrix(y_valid_, y_pred))\n",
        "      # [[13  1]\n",
        "      #  [ 2  9]]\n",
        "\n",
        "      print(classification_report(y_valid_, valid_pred.round()))\n",
        "      print('Accuracy: {:.2f}'.format(accuracy_score(y_valid_, y_pred)))\n",
        "\n",
        "    print(\"Acurácia no treinamento\")\n",
        "    print(round(accuracy_score(y_train_, train_pred),2))\n",
        "\n",
        "    print(\"Acurácia na validação\")\n",
        "    acuracia = accuracy_score(y_valid_, valid_pred.round(2))\n",
        "    print(round(acuracia, 2))\n",
        "\n",
        "\n",
        "\n",
        "    scores = cross_val_score(model, X_valid_, y_valid_, cv=10)\n",
        "\n",
        "    mean = scores.mean()\n",
        "    dv = scores.std()\n",
        "    print('Acurácia média - Modelo {}: {:.2f}%'.format(name, mean*100))\n",
        "    print('Intervalo de acurácia - Modelo {}: [{:.2f}% ~ {:.2f}%]\\n'.format(name, (mean - 2*dv)*100, (mean + 2*dv)*100))\n",
        "    print('Scores 10-fold cross-validation: ', scores.round(2))\n",
        "    print('Média 10-fold cross-validation: {:.2f}'.format(scores.mean()))\n",
        "    print('Desvio padrão 10-fold cross-validation: {:.10f}'.format(scores.std()))"
      ]
    },
    {
      "cell_type": "code",
      "execution_count": 41,
      "metadata": {
        "id": "bRpJRpFCeEKR"
      },
      "outputs": [],
      "source": [
        "# Não funcionou, mas, pode funcionar ainda...\n",
        "def plot_precision_recall_threshold(model):\n",
        "  from sklearn.model_selection import cross_val_predict\n",
        "  from sklearn.metrics import precision_recall_curve\n",
        "  SEED = 42\n",
        "  np.random.seed(SEED)\n",
        "  cv = StratifiedKFold(n_splits = 5, shuffle = True)\n",
        "  # model = LogisticRegression(solver='liblinear')\n",
        "  y_scores = cross_val_predict(model, X_train, y_train, cv = cv, method = 'decision_function')\n",
        "  precisions, recalls, thresholds = precision_recall_curve(y_train, y_scores)\n",
        "  fig, ax = plt.subplots(figsize = (12,3))\n",
        "  plt.plot(thresholds, precisions[:-1], 'b--', label = 'Precisão')\n",
        "  plt.plot(thresholds, recalls[:-1], 'g-', label = 'Recall')\n",
        "  plt.xlabel('Threshold')\n",
        "  plt.legend(loc = 'center right')\n",
        "  plt.ylim([0,1])\n",
        "  plt.title('Precisão x Recall', fontsize = 14)\n",
        "  plt.show()"
      ]
    },
    {
      "cell_type": "code",
      "execution_count": 42,
      "metadata": {
        "id": "ttbEQnqrv9l2"
      },
      "outputs": [],
      "source": [
        "## Curva de ROC dos modelos\n",
        "def plot_auc_roc(X_valid, y_valid):\n",
        "  ### Calcula probabilidade de predição das saídas possíveis\n",
        "  k_nearest_neighbors_pred_prob_0 = k_nearest_neighbors.predict_proba(X_valid)[:,0]\n",
        "  k_nearest_neighbors_pred_prob_1 = k_nearest_neighbors.predict_proba(X_valid)[:,1]\n",
        "\n",
        "  ### Saída 0 como positiva (???)\n",
        "  fpr, tpr, threshold = roc_curve(y_valid.values.ravel(),random_forest_pred_prob_0, pos_label=0)\n",
        "  plt.plot(fpr, tpr, label='Random Forest = %0.2f' % roc_auc_rf)\n",
        "\n",
        "  plt.plot([0,1], [0,1], 'k--')\n",
        "  plt.plot([0,0], [0,1], color=\"black\", linewidth=0.25)\n",
        "  plt.plot([0,1], [1,1], color=\"black\", linewidth=0.25)\n",
        "  plt.plot([0,1], [0,0], color=\"black\", linewidth=0.25)\n",
        "  plt.plot([1,1], [0,1], color=\"black\", linewidth=0.25)\n",
        "  plt.xlabel('Taxa de Falsos Positivos')\n",
        "  plt.ylabel('Taxa de Verdadeiros Positivos')\n",
        "  # plt.legend(prop={'size': 9}, loc = 4)\n",
        "  plt.legend(prop={'size': 11}, bbox_to_anchor =(0.25, 0.85))\n",
        "  plt.title(\"Curva de ROC dos modelos treinados | Saída 0 como positiva\")\n",
        "  plt.show()\n",
        "\n",
        "  ### Saída 1 como positiva (???)\n",
        "  fpr, tpr, threshold = roc_curve(y_valid.values.ravel(),random_forest_pred_prob_1, pos_label=1)\n",
        "  plt.plot(fpr, tpr, label='Random Forest = %0.2f' % roc_auc_rf)\n",
        "\n",
        "  plt.plot([0,1], [0,1], 'k--')\n",
        "  plt.plot([0,0], [0,1], color=\"black\", linewidth=0.25)\n",
        "  plt.plot([0,1], [1,1], color=\"black\", linewidth=0.25)\n",
        "  plt.plot([0,1], [0,0], color=\"black\", linewidth=0.25)\n",
        "  plt.plot([1,1], [0,1], color=\"black\", linewidth=0.25)\n",
        "  plt.xlabel('Taxa de Falsos Positivos')\n",
        "  plt.ylabel('Taxa de Verdadeiros Positivos')\n",
        "  # plt.legend(prop={'size': 9}, loc = 4)\n",
        "  plt.legend(prop={'size': 11}, bbox_to_anchor =(0.95, 0.25))\n",
        "  plt.title(\"Curva de ROC dos modelos treinados | Saída 1 como positiva\")\n",
        "  plt.show()"
      ]
    },
    {
      "cell_type": "code",
      "execution_count": 43,
      "metadata": {
        "id": "ZFjdkmO7T537"
      },
      "outputs": [],
      "source": [
        "def model_informations(ncm, name, model, X_train_, y_train_, X_valid_, y_valid_):\n",
        "      print(name)\n",
        "      display(model)\n",
        "\n",
        "      # validando o modelo usando 5-fold cross-validation\n",
        "      kfold = KFold(n_splits=10, shuffle=True, random_state=42)\n",
        "      results = cross_validate(model, X=X_valid_, y=y_valid_, cv=kfold)\n",
        "      print(\"Average accuracy: %f (%f)\" %(results['test_score'].mean(), results['test_score'].std()))\n",
        "      print(f\"Acurácia de {model.score(X_valid_, y_valid_) * 100} %\")  # Aqui estamos pegando a acurácia do modelo com o conjunto de teste dos dados.\n",
        "\n",
        "      print(f'Best F1-score of train set: {model.best_score_:.3f}\\n')\n",
        "      print(f'Best parameter set: {model.best_params_}\\n')\n",
        "\n",
        "      print('--Training set score: ' + str(model.score(X_train_, y_train_)))\n",
        "      print(\"Best parameter set: \"+str(model.best_params_))\n",
        "      print(\"Best Score of Validation set: \"+str(model.score(X_valid,y_valid)))\n",
        "      print('--Validation set score: ' + str(model.score(X_valid_, y_valid_)))\n",
        "\n",
        "      # Analyzing the results of cross-validation process.\n",
        "      result = pd.DataFrame(model.cv_results_)\n",
        "      print(result.head())\n",
        "\n",
        "      # Serializing the best model.\n",
        "      with open('pipe.pkl', 'wb') as file:\n",
        "          pickle.dump(model, file)\n",
        "\n",
        "      # Restoring the best model.\n",
        "      with open(\"pipe.pkl\", \"rb\") as file:\n",
        "          model = pickle.load(file)\n",
        "\n",
        "      # Testing final model.\n",
        "      # predict = model.predict(X_valid_)\n",
        "      # print(\"Accuracy of validation: \", accuracy_score(y_valid_, predict), \"\\n\")\n",
        "      # print(\"Confusion Matrix:\\n\", confusion_matrix(y_valid_,predict), \"\\n\")\n",
        "      # print(\"Classification report:\\n\", classification_report(y_valid_,predict))\n",
        "\n",
        "      # model scoring\n",
        "      train_pred = model.predict(X_train_)\n",
        "      valid_pred = model.predict(X_valid_)\n",
        "\n",
        "      # um teste sem sucesso...\n",
        "\n",
        "      # test_results = pd.concat(\n",
        "      #     [\n",
        "      #         X_valid_.reset_index(),\n",
        "      #         pd.DataFrame(valid_pred, columns=[\"predicted\"]),\n",
        "      #         pd.DataFrame(y_valid_).reset_index(),\n",
        "      #     ],\n",
        "      #     axis=1\n",
        "      # ).drop(\"index\", axis=1)\n",
        "      # plot_avepp(test_results, \"predicted\", \"charges\")\n",
        "\n",
        "\n",
        "      # Vamos agora selecionar um resultado que previu como positivo\n",
        "      # print('Probabilidade do modelo prever negativo -',100*train_pred[3][0].round(2),'%.')\n",
        "      # print('Probabilidade do modelo prever positivo -',100*train_pred[3][1].round(2),'%.')\n",
        "\n",
        "      # print(\"total de features: {}\".format(len(features)))\n",
        "\n",
        "\n",
        "      # em verificação de real necessidade...\n",
        "      # X_train_1, X_valid_1 = getXTrain_XValid_(model['preprocessing'], X_train_, X_valid_)\n",
        "      best_pipe = model.best_estimator_\n",
        "      X_train_1, X_valid_1 = getXTrain_XValid_(best_pipe.named_steps['preprocessing'],X_train_, X_valid_)\n",
        "\n",
        "      plot_model_details(ncm, name, best_pipe.named_steps['model'], X_valid_1, train_pred, valid_pred,  y_train_, y_valid_)\n",
        "\n",
        "      '''\n",
        "      importances = model['model'].feature_importances_\n",
        "      #criando um dicionário com as variáveis\n",
        "      dic = {'score':importances,'feature':X_train_1.columns[features], 'indice no dataset':features}\n",
        "\n",
        "      #criando um dataframe com os dados\n",
        "      df = pd.DataFrame(dic).sort_values('score',ascending=False)\n",
        "\n",
        "      print('Importância de cada feature selecionada pelo modelo para predição')\n",
        "      feat_importances = pd.Series(importances, index= X_train_1.columns[features].to_list())\n",
        "      feat_importances.nlargest(15).plot(kind='barh')\n",
        "\n",
        "      # fig, ax = plt.subplots(figsize=(18,10))\n",
        "      # plot_importance(importances, max_num_features=10, height=0.8, ax=ax)\n",
        "      # pyplot.show()\n",
        "      plt.show()\n",
        "      '''\n",
        "\n",
        "      # filtro = df['score'] > 0\n",
        "      # features_model = df[filtro]\n",
        "\n",
        "      # print(\"atributos relevantes\")\n",
        "      # print(df)\n",
        "      # sns.barplot(x=df['score'].sort_values(ascending=False), y=df['feature'], orient='h').set_title('Importância de cada feature')\n",
        "\n",
        "      # f1score = f1_score(y_valid_, valid_pred, average = 'macro')\n",
        "      # recall = recall_score(y_valid_, valid_pred, average = 'macro')\n",
        "      # accuracy = accuracy_score(y_valid_, valid_pred)\n",
        "\n",
        "      # y_scores=model.predict(X_valid_)\n",
        "      # AUC = roc_auc_score (y_valid_, y_scores, multi_class='ovr')\n",
        "\n",
        "      # print('auc =', AUC)\n",
        "      # print('acc =', accuracy)\n",
        "      # print('f1 =', f1score)\n",
        "      # print('recall =', recall)\n",
        "\n",
        "      # y_scores=model.predict_proba(X_valid_)\n",
        "\n",
        "      # fpr,tpr,threshold =roc_curve(y_valid_,y_scores[:,1])\n",
        "      # roc_auc_knn = auc(fpr, tpr)\n",
        "\n",
        "      # # print(threshold)\n",
        "\n",
        "      # plt.plot(fpr, tpr,'b', label = 'AUC = %0.2f' % roc_auc_knn)\n",
        "      # plt.legend(loc = 'lower right')\n",
        "      # plt.plot([0, 1], [0, 1],'r--')\n",
        "      # plt.xlim([0, 1])\n",
        "      # plt.ylim([0, 1])\n",
        "      # plt.ylabel('True Positive Rate')\n",
        "      # plt.xlabel('False Positive Rate')\n",
        "      # plt.title('ROC Curve of '+name)\n",
        "      # plt.show()\n",
        "\n",
        "      # print(\"Plotando curva AUC-ROC\")\n",
        "\n",
        "      # plot_auc_roc(X_valid_, y_valid_)\n",
        "\n",
        "      # RocCurveDisplay.from_estimator(model['model'], X_valid_1[features], y_valid)\n",
        "\n",
        "      # return features"
      ]
    },
    {
      "cell_type": "markdown",
      "metadata": {
        "id": "B2CT0y1GuwIv"
      },
      "source": [
        "##Execução"
      ]
    },
    {
      "cell_type": "code",
      "execution_count": 44,
      "metadata": {
        "id": "6jJSVdML25nF"
      },
      "outputs": [],
      "source": [
        "def main():\n",
        "  # models = dicionarioModeloML()\n",
        "  # model_generation(models)\n",
        "  print()"
      ]
    },
    {
      "cell_type": "code",
      "execution_count": 45,
      "metadata": {
        "id": "RdKkOSMXRIAk"
      },
      "outputs": [],
      "source": [
        "# desempenho_modelos = []\n",
        "# desempenho_modelos_feature_selection = []\n",
        "import warnings\n",
        "warnings.filterwarnings('ignore')\n",
        "\n",
        "# if __name__ == '__main__':\n",
        "#     main()"
      ]
    },
    {
      "cell_type": "markdown",
      "metadata": {
        "id": "JQZpAhEy7Wa-"
      },
      "source": [
        "# Feature Selection with Filter, Wrapper and Embedded Methos"
      ]
    },
    {
      "cell_type": "code",
      "execution_count": 46,
      "metadata": {
        "id": "o2RbWQ6zTlZa"
      },
      "outputs": [],
      "source": [
        "n_feats_select = 10"
      ]
    },
    {
      "cell_type": "markdown",
      "metadata": {
        "id": "LCPHzQ-bYOK7"
      },
      "source": [
        "## Filter Method"
      ]
    },
    {
      "cell_type": "markdown",
      "metadata": {
        "id": "8tNkw0iakVvS"
      },
      "source": [
        "###Imports"
      ]
    },
    {
      "cell_type": "code",
      "execution_count": 47,
      "metadata": {
        "id": "C8rU23kLkgoj"
      },
      "outputs": [],
      "source": [
        "import seaborn as sns\n",
        "import matplotlib.pyplot as plt\n",
        "\n",
        "import pandas as pd\n",
        "from sklearn.linear_model import LogisticRegression, LinearRegression\n",
        "from sklearn.preprocessing import LabelEncoder\n",
        "from sklearn.discriminant_analysis import LinearDiscriminantAnalysis\n",
        "from sklearn.model_selection import StratifiedKFold, cross_val_score, GridSearchCV\n",
        "from sklearn.pipeline import Pipeline\n",
        "from random import choices\n",
        "\n",
        "from sklearn.feature_selection import mutual_info_regression, mutual_info_classif, f_classif, chi2, SelectKBest"
      ]
    },
    {
      "cell_type": "markdown",
      "metadata": {
        "id": "fQI0aD5lpVzZ"
      },
      "source": [
        "### Pearson’s Correlation"
      ]
    },
    {
      "cell_type": "code",
      "execution_count": 48,
      "metadata": {
        "id": "LzZxKMujYQju"
      },
      "outputs": [],
      "source": [
        "# def pearsons_correlation():\n",
        "\n",
        "# fig, ax = plt.subplots(1,3, figsize=(32, 8))\n",
        "# X['situacao'] = y\n",
        "\n",
        "# corr1 = X.corr('pearson')[['situacao']].sort_values(by='situacao', ascending=False)\n",
        "# corr2 = X.corr('spearman')[['situacao']].sort_values(by='situacao', ascending=False)\n",
        "# corr3 = X.corr('kendall')[['situacao']].sort_values(by='situacao', ascending=False)\n",
        "\n",
        "# ax[0].set_title(\"pearson\")\n",
        "# ax[1].set_title(\"spearman\")\n",
        "# ax[2].set_title(\"kendall\")\n",
        "\n",
        "# sns.heatmap(corr1, ax=ax[0], annot=True)\n",
        "# sns.heatmap(corr2, ax=ax[1], annot=True)\n",
        "# sns.heatmap(corr3, ax=ax[2], annot=True)\n",
        "\n",
        "\n",
        "# extract the most correlated features with the output variable\n",
        "# 'pearson' analysis\n",
        "# feature_selection = corr3[abs(corr3)>0.1].dropna()\n",
        "# feature_selection\n",
        "  # return feature_selection"
      ]
    },
    {
      "cell_type": "markdown",
      "metadata": {
        "id": "G0j6Kz_dppjQ"
      },
      "source": [
        "### Limite de variância"
      ]
    },
    {
      "cell_type": "code",
      "execution_count": 49,
      "metadata": {
        "id": "27EoHFYSlHbg"
      },
      "outputs": [],
      "source": [
        "# def limite_variancia():\n",
        "\n",
        "# example of applying the variance threshold for feature selection\n",
        "\n",
        "# from sklearn.feature_selection import VarianceThreshold\n",
        "# # load the dataset\n",
        "\n",
        "# print(X.shape, y.shape)\n",
        "# # define the transform\n",
        "# transform = VarianceThreshold()\n",
        "# # transform the input data\n",
        "# X_sel = transform.fit_transform(X)\n",
        "# print(X_sel.shape)\n",
        "\n",
        "\n",
        "  # from sklearn.feature_selection import VarianceThreshold\n",
        "\n",
        "  # X_train_tratado['situacao'] = y\n",
        "\n",
        "\n",
        "  # X_train_tratado.drop('situacao',axis=1, inplace=True)\n",
        "\n",
        "  # selector = VarianceThreshold()\n",
        "  # selector.fit_transform(X)"
      ]
    },
    {
      "cell_type": "markdown",
      "metadata": {
        "id": "ScmiXfX6ptDS"
      },
      "source": [
        "### LDA - Análise Discriminante Linear"
      ]
    },
    {
      "cell_type": "code",
      "execution_count": 50,
      "metadata": {
        "id": "iyaYQL4qpvKQ"
      },
      "outputs": [],
      "source": [
        "def lda():\n",
        "  steps = [('lda', LinearDiscriminantAnalysis()), ('m', LogisticRegression(C=10))]\n",
        "  model = Pipeline(steps=steps)\n",
        "\n",
        "  # evaluate model\n",
        "  cv = StratifiedKFold(n_splits=5)\n",
        "  n_scores_lda = cross_val_score(model, X, y, scoring='f1_macro', cv=cv, n_jobs=-1)"
      ]
    },
    {
      "cell_type": "markdown",
      "metadata": {
        "id": "c6IuVJTCxcgK"
      },
      "source": [
        "### ANOVA - Analysis of Variance"
      ]
    },
    {
      "cell_type": "code",
      "execution_count": 51,
      "metadata": {
        "id": "4ydQujlfqAlT"
      },
      "outputs": [],
      "source": [
        "def anova():\n",
        "  # configure to select all features\n",
        "  # fs = SelectKBest(score_func=f_classif, k=10)\n",
        "  fs = SelectKBest(score_func=mutual_info_classif, k=n_feats_select) # top 10 features\n",
        "  # fs = SelectKBest(score_func=mutual_info_classif, k=10)\n",
        "  # learn relationship from training data\n",
        "  # fs.fit(X_train, y_train)\n",
        "\n",
        "  # features = X_train.columns[fs.get_support()]\n",
        "  # return features\n",
        "  return fs\n",
        "\n",
        "\n",
        "  # # transform train input data\n",
        "  # X_train_fs = fs.transform(X_train)\n",
        "  # # transform test input data\n",
        "  # X_test_fs = fs.transform(X_test)\n",
        "\n",
        "  # fs = SelectKBest(score_func=mutual_info_classif, k=10) # top 5 features\n",
        "\n",
        "\n",
        "\n",
        "\n",
        "  # cv = StratifiedKFold(n_splits=5)\n",
        "\n",
        "\n",
        "\n",
        "\n",
        "\n",
        "  # pipeline = Pipeline(steps=[('anova',fs), ('lr', LinearRegression())])\n",
        "  # params = {('anova__k'): [i+1 for i in range(X.shape[1])]}\n",
        "  # search = GridSearchCV(pipeline, params, scoring='accuracy', n_jobs=-1, cv=cv)\n",
        "  # results = search.fit(X, y)\n",
        "  # print('Best k: %s' % results.best_params_)"
      ]
    },
    {
      "cell_type": "markdown",
      "metadata": {
        "id": "lc9qrIoftPka"
      },
      "source": [
        "### χ² - Chi-squared tests"
      ]
    },
    {
      "cell_type": "code",
      "execution_count": 52,
      "metadata": {
        "id": "wLL_lvsatUwq"
      },
      "outputs": [],
      "source": [
        "def chi_squared():\n",
        "  # fs = SelectKBest(score_func=mutual_info_classif, k=10) # top 5 features\n",
        "  fs = SelectKBest(score_func=chi2, k=n_feats_select)\n",
        "  # fs.fit_transform(X, y)\n",
        "  # # X_subset = fs.fit_transform(X, y)\n",
        "  # features = fs.get_support(indices=True)\n",
        "\n",
        "  # return np.array(features)\n",
        "  return fs"
      ]
    },
    {
      "cell_type": "markdown",
      "metadata": {
        "id": "UDdFYwwHvmKo"
      },
      "source": [
        "## Wrapper Method"
      ]
    },
    {
      "cell_type": "markdown",
      "metadata": {
        "id": "Qj17Mfh7olSg"
      },
      "source": [
        "###Imports"
      ]
    },
    {
      "cell_type": "code",
      "execution_count": 53,
      "metadata": {
        "id": "-kW7OOUQew6O"
      },
      "outputs": [],
      "source": [
        "# pip install boruta"
      ]
    },
    {
      "cell_type": "code",
      "execution_count": 54,
      "metadata": {
        "id": "T4TXRhtcoq-a"
      },
      "outputs": [],
      "source": [
        "# important libraries\n",
        "from tqdm.notebook import tqdm\n",
        "import scipy as sp\n",
        "from sklearn.ensemble import RandomForestClassifier\n",
        "import matplotlib.pyplot as plt\n",
        "from sklearn.utils import shuffle\n",
        "\n",
        "from sklearn.feature_selection import SequentialFeatureSelector\n",
        "from sklearn.neighbors import KNeighborsClassifier\n",
        "# from boruta import BorutaPy\n",
        "\n",
        "from sklearn.linear_model import LinearRegression, RidgeCV\n",
        "from time import time\n",
        "\n",
        "from sklearn.linear_model import LogisticRegression\n",
        "from sklearn.model_selection import StratifiedKFold\n",
        "\n",
        "from sklearn.feature_selection import RFE\n",
        "from sklearn.svm import SVC\n",
        "\n",
        "from sklearn.ensemble import RandomForestRegressor"
      ]
    },
    {
      "cell_type": "markdown",
      "metadata": {
        "id": "VUuvUx9Dwyff"
      },
      "source": [
        "### Seleção de atributos com Backward and Forward"
      ]
    },
    {
      "cell_type": "code",
      "execution_count": 55,
      "metadata": {
        "id": "3ouvJqX0wusy"
      },
      "outputs": [],
      "source": [
        "def forward_selection():\n",
        "  # knn = KNeighborsClassifier(n_neighbors= 3 )\n",
        "  # sfs = SequentialFeatureSelector(knn, n_features_to_select= 8 , direction=\"forward\")\n",
        "  # sfs.fit(X_train, y_train)\n",
        "  # sfs.get_support(indices=True)\n",
        "\n",
        "  # features = np.array(sfs.get_support(indices=True))\n",
        "  # feature_names = X_train[list(X_train.columns[features].tolist())]\n",
        "  # print(\"Features selected by forward sequential selection: \"\n",
        "  # f\"{feature_names[features]}\")\n",
        "\n",
        "  # =================================================================================== #\n",
        "\n",
        "  # plt.bar(height=features, x=list(feature_names.columns))\n",
        "  # plt.title(\"Feature importances via coefficients\")\n",
        "  # plt.show()\n",
        "\n",
        "\n",
        "  # ridge = RidgeCV(alphas=np.logspace(-6, 6, num=5)).fit(X_train, y_train)\n",
        "  ridge = RidgeCV(alphas=np.logspace(-6, 6, num=5))\n",
        "  # feature_names = np.array(X_train.columns.tolist())\n",
        "\n",
        "  sfs_forward = SequentialFeatureSelector(\n",
        "      ridge, n_features_to_select=n_feats_select, direction=\"forward\"\n",
        "  )\n",
        "\n",
        "  # sfs_forward = SequentialFeatureSelector(\n",
        "  #     ridge, n_features_to_select=8, direction=\"forward\"\n",
        "  # ).fit(X_train, y_train)\n",
        "\n",
        "  # return feature_names[sfs_forward.get_support()]\n",
        "  return sfs_forward"
      ]
    },
    {
      "cell_type": "code",
      "execution_count": 56,
      "metadata": {
        "id": "rFNsTr6aaVaQ"
      },
      "outputs": [],
      "source": [
        "def backward_selection():\n",
        "  # ridge = RidgeCV(alphas=np.logspace(-6, 6, num=5)).fit(X_train, y_train)\n",
        "  ridge = RidgeCV(alphas=np.logspace(-6, 6, num=5))\n",
        "  # feature_names = np.array(X_train.columns.tolist())\n",
        "\n",
        "  # sfs_backward = SequentialFeatureSelector(\n",
        "  #     ridge, n_features_to_select=8, direction=\"backward\"\n",
        "  # ).fit(X_train, y_train)\n",
        "\n",
        "  sfs_backward = SequentialFeatureSelector(\n",
        "      ridge, n_features_to_select=10, direction=\"backward\"\n",
        "  )\n",
        "\n",
        "  return sfs_backward\n",
        "  # return feature_names[sfs_backward.get_support()]"
      ]
    },
    {
      "cell_type": "markdown",
      "metadata": {
        "id": "TDMgZniz5QKx"
      },
      "source": [
        "### Seleção de atributos com Recursive Feature Elimination (RFE)"
      ]
    },
    {
      "cell_type": "code",
      "execution_count": 57,
      "metadata": {
        "id": "TWRe8uvDqAUe"
      },
      "outputs": [],
      "source": [
        "def fs_rfe_0():\n",
        "  model = LinearRegression()\n",
        "  rfe = RFE(model, n_features_to_select=n_feats_select, step=1)\n",
        "  # Tranforming data using RFE\n",
        "  # X_rfe = rfe.fit_transform(X,y)\n",
        "  # # Fitting the data to model\n",
        "  # model.fit(X_rfe,y)\n",
        "\n",
        "  # cols = list(X.columns)\n",
        "  # temp = pd.Series(rfe.support_, index=cols)\n",
        "  # selected_features_rfe = temp[temp==True].index\n",
        "\n",
        "  # # print(rfe.support_)\n",
        "  # # print(rfe.ranking_)\n",
        "  # return selected_features_rfe\n",
        "\n",
        "  return rfe"
      ]
    },
    {
      "cell_type": "code",
      "execution_count": 58,
      "metadata": {
        "id": "eLtDC_j35Vo_"
      },
      "outputs": [],
      "source": [
        "def fs_rfe_1():\n",
        "  svc = SVC(kernel=\"linear\")\n",
        "  rfe = RFE(svc, n_features_to_select=n_feats_select)\n",
        "  rfe.fit(X_train, y_train)\n",
        "  X_selection = rfe.transform(X_train)\n",
        "\n",
        "  print(X_selection)"
      ]
    },
    {
      "cell_type": "code",
      "execution_count": 59,
      "metadata": {
        "id": "qQpwvD8a5YpE"
      },
      "outputs": [],
      "source": [
        "def fs_rfe_2():\n",
        "  estimator = SVR(kernel=\"linear\")\n",
        "  selector = RFE(estimator, n_features_to_select=n_feats_select, step=1)\n",
        "  selector = selector.fit(X, y)\n",
        "  selector.support_\n",
        "  selector.ranking_"
      ]
    },
    {
      "cell_type": "markdown",
      "metadata": {
        "id": "26MiBMwGjvAC"
      },
      "source": [
        "###Boruta - v1"
      ]
    },
    {
      "cell_type": "markdown",
      "metadata": {
        "id": "qoTUh1Q_sGj5"
      },
      "source": [
        "Idea #1: Shadow Features"
      ]
    },
    {
      "cell_type": "code",
      "execution_count": 60,
      "metadata": {
        "id": "BDMta-3lkGX7"
      },
      "outputs": [],
      "source": [
        "def randomly_permutating_boruta():\n",
        "  # ### make X_shadow by randomly permutating each column of X\n",
        "  np.random.seed(42)\n",
        "  X_shadow = X_train.apply(np.random.permutation)\n",
        "  X_shadow.columns = ['shadow_' + feat for feat in X_train.columns]\n",
        "\n",
        "  X_boruta = pd.concat([X_train, X_shadow], axis=1)\n",
        "\n",
        "  y2 = y_train.iloc[:len(X_train)]\n",
        "\n",
        "  ### fit a rf (suggested max_depth between 3 and 7)\n",
        "  forest = RandomForestRegressor(max_depth = 5, random_state = 42, n_estimators=100)\n",
        "  # forest.fit(X_boruta, y2)\n",
        "\n",
        "  ### store feature importances\n",
        "  # feat_imp_X = forest.feature_importances_[:len(X_valid.columns)]\n",
        "  # print(\"\\n Feature VIM = \", feat_imp_X,\"\\n\")\n",
        "\n",
        "  # feat_imp_shadow = forest.feature_importances_[len(X.columns) :]\n",
        "  # print(\"\\n Shadows VIM = \", feat_imp_shadow,\"\\n\")\n",
        "\n",
        "  # ### compute Shadow Threshold & Hits\n",
        "  # print(\"\\n Shadow Threshold = \", round(feat_imp_shadow.max(),3),\"\\n\")\n",
        "\n",
        "  # hits = feat_imp_X > feat_imp_shadow.max()\n",
        "  # print(\"\\n Hits = \", hits, \"\\n\")\n",
        "\n",
        "  # get importance\n",
        "  importance = forest.feature_importances_\n",
        "  importance_df = pd.DataFrame({'feature': X_boruta.columns,'vim': importance})\n",
        "\n",
        "  return importance_df['vim']"
      ]
    },
    {
      "cell_type": "markdown",
      "metadata": {
        "id": "2DmR2WwzsMke"
      },
      "source": [
        "### Boruta - v2 => Binomial Distribution"
      ]
    },
    {
      "cell_type": "code",
      "execution_count": 61,
      "metadata": {
        "id": "ZAm3upHEsnRR"
      },
      "outputs": [],
      "source": [
        "def binomial_distribution_boruta():\n",
        "  ### initiliaze hits counter\n",
        "  hits = np.zeros((len(X_train.columns)))\n",
        "\n",
        "  ### repeat 20 times\n",
        "  for iter_ in range(20):\n",
        "  ### make X_shadow by randomly permuting each column of X\n",
        "      np.random.seed(iter_)\n",
        "      X_shadow = X_train.apply(np.random.permutation)\n",
        "      X_boruta = pd.concat([X_train, X_shadow], axis = 1)\n",
        "\n",
        "      ### fit a random forest (suggested max_depth bw 3 and 7)\n",
        "      forest = RandomForestRegressor(max_depth = 5, random_state = 42, n_estimators=100)\n",
        "      forest.fit(X_boruta, y_train)\n",
        "\n",
        "      ### store feature importance\n",
        "      feat_imp_X =forest.feature_importances_[:len(X_train.columns)]\n",
        "      feat_imp_shadow = forest.feature_importances_[len(X_train.columns):]\n",
        "\n",
        "      ### hits for this trial and add to counter\n",
        "      hits += (feat_imp_X > feat_imp_shadow.max())\n",
        "  hits_df = pd.DataFrame({'var': X_train.columns,'total hits in iteration': hits})\n",
        "\n",
        "  return hits_df['total hits in iteration']"
      ]
    },
    {
      "cell_type": "code",
      "execution_count": 62,
      "metadata": {
        "id": "xKnh1QMn2GUG"
      },
      "outputs": [],
      "source": [
        "def fs_boruta_2():\n",
        "  feats = binomial_distribution_boruta()\n",
        "  feature_results_boruta = feats.sort_values(by=['total hits in iteration'],ascending=False)[feats['total hits in iteration']>0]\n",
        "  print(feature_results_boruta)\n",
        "\n",
        "  plt.bar(height=feature_results_boruta['var'], x=list(feature_results_boruta['total hits in iteration']))\n",
        "  plt.title(\"Feature importances via Boruta Methd\")\n",
        "  plt.show()"
      ]
    },
    {
      "cell_type": "markdown",
      "metadata": {
        "id": "xwpV22jv_1ZA"
      },
      "source": [
        "###Boruta - v3 - não rodou"
      ]
    },
    {
      "cell_type": "markdown",
      "metadata": {
        "id": "kWZkW9Nk_8u_"
      },
      "source": [
        "####Leitura do dados\n",
        "\n"
      ]
    },
    {
      "cell_type": "code",
      "execution_count": 63,
      "metadata": {
        "id": "qqVUymGZ_8LB"
      },
      "outputs": [],
      "source": [
        "# # important libraries\n",
        "# import pandas as pd\n",
        "# import numpy as np\n",
        "# from tqdm.notebook import tqdm\n",
        "# import scipy as sp\n",
        "# from sklearn.ensemble import RandomForestClassifier\n",
        "# import matplotlib.pyplot as plt\n",
        "# from sklearn.utils import shuffle"
      ]
    },
    {
      "cell_type": "code",
      "execution_count": 64,
      "metadata": {
        "id": "W0KySKjVAKbf"
      },
      "outputs": [],
      "source": [
        "# data = X.copy()\n",
        "# data['situacao'] = y.copy()\n",
        "# # data = pd.read_csv(\"./drive/MyDrive/DOUTORADO UFMA/ESTUDO DIRIGIDO I/data/healthcare-dataset-stroke-data.csv\")\n"
      ]
    },
    {
      "cell_type": "code",
      "execution_count": 65,
      "metadata": {
        "id": "pzxwZrZcArYi"
      },
      "outputs": [],
      "source": [
        "# # seperate input and output variables\n",
        "# # fs_X = data.drop(\"situacao\", axis = 1)\n",
        "# fs_y = data[\"situacao\"]"
      ]
    },
    {
      "cell_type": "markdown",
      "metadata": {
        "id": "2uAUe75FAzUH"
      },
      "source": [
        "####Creating Shadow features"
      ]
    },
    {
      "cell_type": "code",
      "execution_count": 66,
      "metadata": {
        "id": "q0N3ANbuA1ue"
      },
      "outputs": [],
      "source": [
        "# # for col in fs_X.columns:\n",
        "#     fs_X[f\"shadow_{col}\"] = fs_X[col].sample(frac=1).reset_index(drop=True)"
      ]
    },
    {
      "cell_type": "markdown",
      "metadata": {
        "id": "BERpcuC4A_ae"
      },
      "source": [
        "####Calculate Importance"
      ]
    },
    {
      "cell_type": "code",
      "execution_count": 67,
      "metadata": {
        "id": "fFHBtUD5BDjf"
      },
      "outputs": [],
      "source": [
        "# def get_important_features(X, y):\n",
        "#   # Initiliaze Random Forest CLassifier\n",
        "#   rf = RandomForestClassifier(max_depth=20)\n",
        "#   # Fit Random Forest on provided data\n",
        "#   rf.fit(X,y)\n",
        "#   # Create dictionary of feature importances\n",
        "#   importances = {feature_name: f_importance for feature_name, f_importance in zip(X.columns, rf.feature_importances_)}\n",
        "#   # Isolate importances of Shadow features\n",
        "#   only_shadow_feat_importance = {key:value for key,value in importances.items() if \"shadow\" in key}\n",
        "#   # get importance level of most important shadow feature\n",
        "#   # highest_shadow_feature = list(dict(sorted(only_shadow_feat_importance.items(), key=lambda item: item[1], reverse=True)).values())[0]\n",
        "#   # get original feature which fulfill boruta selection criteria\n",
        "#   selected_features = [key for key, value in importances.items() if value > highest_shadow_feature]\n",
        "#   return selected_features"
      ]
    },
    {
      "cell_type": "markdown",
      "metadata": {
        "id": "s4e38GMwBMS4"
      },
      "source": [
        "####Multiple Trials"
      ]
    },
    {
      "cell_type": "code",
      "execution_count": 68,
      "metadata": {
        "id": "C3VljeqzBQJN"
      },
      "outputs": [],
      "source": [
        "# TRIALS = 50\n",
        "# feature_hits = {i:0 for i in data.columns}\n",
        "# # for _ in tqdm(range(TRIALS)):\n",
        "#     imp_features = get_important_features(fs_X, fs_y)\n",
        "#     for key, _ in feature_hits.items():\n",
        "#         if key in imp_features: feature_hits[key] += 1\n",
        "# print(feature_hits)"
      ]
    },
    {
      "cell_type": "markdown",
      "metadata": {
        "id": "3ZlJ_4d8BgR8"
      },
      "source": [
        "####Binomial Distribution"
      ]
    },
    {
      "cell_type": "code",
      "execution_count": 69,
      "metadata": {
        "id": "Le9vMryoBhxS"
      },
      "outputs": [],
      "source": [
        "# Calculate the probability mass function\n",
        "# pmf = [sp.stats.binom.pmf(fs_X, TRIALS, .5) for x in range(TRIALS + 1)]"
      ]
    },
    {
      "cell_type": "code",
      "execution_count": 70,
      "metadata": {
        "id": "V2kpPFctBqFy"
      },
      "outputs": [],
      "source": [
        "# # trails_in_green_zone\n",
        "# def get_tail_items(pmf):\n",
        "#   total = 0\n",
        "#   for i, x in enumerate(pmf):\n",
        "#     total += x\n",
        "#     if total >= 0.05:\n",
        "#       break\n",
        "#   return i"
      ]
    },
    {
      "cell_type": "code",
      "execution_count": 71,
      "metadata": {
        "id": "H3LuxbHJB8HC"
      },
      "outputs": [],
      "source": [
        "# # plot the binomial distribution\n",
        "# plt.plot([i for i in range(TRIALS + 1)], pmf,\"-o\")\n",
        "# plt.title(f\"Binomial distribution for {TRIALS} trials\")\n",
        "# plt.xlabel(\"No. of trials\")\n",
        "# plt.ylabel(\"Probability\")\n",
        "# plt.grid(True)"
      ]
    },
    {
      "cell_type": "markdown",
      "metadata": {
        "id": "U7IDm5utCDzg"
      },
      "source": [
        "####Final Selection"
      ]
    },
    {
      "cell_type": "code",
      "execution_count": 72,
      "metadata": {
        "id": "Rgg7d07zCGTj"
      },
      "outputs": [],
      "source": [
        "# # select features from n number of trials\n",
        "# def choose_features(feature_hits, TRIALS, thresh):\n",
        "#     #define boundries\n",
        "#     green_zone_thresh = TRIALS - thresh\n",
        "#     blue_zone_upper = green_zone_thresh\n",
        "#     blue_zone_lower = thresh\n",
        "#     green_zone = [key for key, value in feature_hits.items() if    value >= green_zone_thresh]\n",
        "#     blue_zone = [key for key, value in feature_hits.items() if (value >= blue_zone_lower and value < blue_zone_upper)]\n",
        "#     return green_zone, blue_zone"
      ]
    },
    {
      "cell_type": "code",
      "execution_count": 73,
      "metadata": {
        "id": "CygvdEDsCelY"
      },
      "outputs": [],
      "source": [
        "# thresh = get_tail_items(pmf)\n",
        "# green, blue = choose_features(feature_hits, TRIALS, thresh)\n",
        "# green,blue"
      ]
    },
    {
      "cell_type": "markdown",
      "metadata": {
        "id": "TEZdB9DHyfxc"
      },
      "source": [
        "## Embedded Methods"
      ]
    },
    {
      "cell_type": "markdown",
      "metadata": {
        "id": "37rPHL8MdS4H"
      },
      "source": [
        "###Imports"
      ]
    },
    {
      "cell_type": "code",
      "execution_count": 74,
      "metadata": {
        "colab": {
          "base_uri": "https://localhost:8080/"
        },
        "id": "pGQHSFTEdnEo",
        "outputId": "60f20da0-f4aa-4325-d140-1305fb18772f"
      },
      "outputs": [
        {
          "output_type": "stream",
          "name": "stdout",
          "text": [
            "Requirement already satisfied: eli5 in /usr/local/lib/python3.10/dist-packages (0.13.0)\n",
            "Requirement already satisfied: attrs>17.1.0 in /usr/local/lib/python3.10/dist-packages (from eli5) (23.1.0)\n",
            "Requirement already satisfied: jinja2>=3.0.0 in /usr/local/lib/python3.10/dist-packages (from eli5) (3.1.2)\n",
            "Requirement already satisfied: numpy>=1.9.0 in /usr/local/lib/python3.10/dist-packages (from eli5) (1.23.5)\n",
            "Requirement already satisfied: scipy in /usr/local/lib/python3.10/dist-packages (from eli5) (1.11.3)\n",
            "Requirement already satisfied: six in /usr/local/lib/python3.10/dist-packages (from eli5) (1.16.0)\n",
            "Requirement already satisfied: scikit-learn>=0.20 in /usr/local/lib/python3.10/dist-packages (from eli5) (1.2.2)\n",
            "Requirement already satisfied: graphviz in /usr/local/lib/python3.10/dist-packages (from eli5) (0.20.1)\n",
            "Requirement already satisfied: tabulate>=0.7.7 in /usr/local/lib/python3.10/dist-packages (from eli5) (0.9.0)\n",
            "Requirement already satisfied: MarkupSafe>=2.0 in /usr/local/lib/python3.10/dist-packages (from jinja2>=3.0.0->eli5) (2.1.3)\n",
            "Requirement already satisfied: joblib>=1.1.1 in /usr/local/lib/python3.10/dist-packages (from scikit-learn>=0.20->eli5) (1.3.2)\n",
            "Requirement already satisfied: threadpoolctl>=2.0.0 in /usr/local/lib/python3.10/dist-packages (from scikit-learn>=0.20->eli5) (3.2.0)\n"
          ]
        }
      ],
      "source": [
        "pip install eli5"
      ]
    },
    {
      "cell_type": "code",
      "execution_count": 75,
      "metadata": {
        "id": "y-ec6gO3dXIn"
      },
      "outputs": [],
      "source": [
        "from sklearn.linear_model import LassoCV\n",
        "from sklearn.model_selection import StratifiedKFold\n",
        "from sklearn.feature_selection import SelectFromModel\n",
        "\n",
        "# import eli5\n",
        "from eli5.sklearn import PermutationImportance\n",
        "\n",
        "from sklearn.model_selection import cross_val_predict\n",
        "from sklearn.model_selection import StratifiedKFold"
      ]
    },
    {
      "cell_type": "markdown",
      "metadata": {
        "id": "EWfBSEN02YAt"
      },
      "source": [
        "### Genetic Algorithm"
      ]
    },
    {
      "cell_type": "code",
      "execution_count": 76,
      "metadata": {
        "colab": {
          "base_uri": "https://localhost:8080/"
        },
        "id": "67s_dF6b2wzb",
        "outputId": "a35fe7eb-82ff-497d-92de-e293ee2e91a6"
      },
      "outputs": [
        {
          "output_type": "stream",
          "name": "stdout",
          "text": [
            "Requirement already satisfied: sklearn-genetic in /usr/local/lib/python3.10/dist-packages (0.5.1)\n",
            "Requirement already satisfied: scikit-learn>=0.23 in /usr/local/lib/python3.10/dist-packages (from sklearn-genetic) (1.2.2)\n",
            "Requirement already satisfied: deap>=1.0.2 in /usr/local/lib/python3.10/dist-packages (from sklearn-genetic) (1.4.1)\n",
            "Requirement already satisfied: numpy in /usr/local/lib/python3.10/dist-packages (from sklearn-genetic) (1.23.5)\n",
            "Requirement already satisfied: multiprocess in /usr/local/lib/python3.10/dist-packages (from sklearn-genetic) (0.70.15)\n",
            "Requirement already satisfied: scipy>=1.3.2 in /usr/local/lib/python3.10/dist-packages (from scikit-learn>=0.23->sklearn-genetic) (1.11.3)\n",
            "Requirement already satisfied: joblib>=1.1.1 in /usr/local/lib/python3.10/dist-packages (from scikit-learn>=0.23->sklearn-genetic) (1.3.2)\n",
            "Requirement already satisfied: threadpoolctl>=2.0.0 in /usr/local/lib/python3.10/dist-packages (from scikit-learn>=0.23->sklearn-genetic) (3.2.0)\n",
            "Requirement already satisfied: dill>=0.3.7 in /usr/local/lib/python3.10/dist-packages (from multiprocess->sklearn-genetic) (0.3.7)\n"
          ]
        }
      ],
      "source": [
        "pip install sklearn-genetic"
      ]
    },
    {
      "cell_type": "code",
      "execution_count": 77,
      "metadata": {
        "id": "C3LVkTRw2bLI"
      },
      "outputs": [],
      "source": [
        "def genetic_algorithm():\n",
        "  from genetic_selection import GeneticSelectionCV\n",
        "  from sklearn import datasets, linear_model\n",
        "  from sklearn.model_selection import StratifiedKFold\n",
        "\n",
        "  # y2 = y.iloc[:len(x2)]\n",
        "\n",
        "  scv = StratifiedKFold(n_splits=5)\n",
        "  estimator = linear_model.LogisticRegression(solver=\"liblinear\", multi_class=\"ovr\")\n",
        "\n",
        "  selector = GeneticSelectionCV(\n",
        "          estimator,\n",
        "          cv=scv,\n",
        "          verbose=1,\n",
        "          scoring=\"accuracy\",\n",
        "          max_features=n_feats_select,\n",
        "          n_population=50,\n",
        "          crossover_proba=0.5,\n",
        "          mutation_proba=0.2,\n",
        "          n_generations=40,\n",
        "          crossover_independent_proba=0.5,\n",
        "          mutation_independent_proba=0.05,\n",
        "          tournament_size=3,\n",
        "          n_gen_no_change=10,\n",
        "          caching=True,\n",
        "          n_jobs=-1,\n",
        "      )\n",
        "\n",
        "  # selector = selector.fit(X_train_tratado, y3)\n",
        "  # get the selected features\n",
        "  # cols = X_train_tratado.columns.tolist()\n",
        "  # selected_feats = [cols[i] for i in np.where(selector.support_)[0]]\n",
        "  return selector"
      ]
    },
    {
      "cell_type": "markdown",
      "metadata": {
        "id": "qAReAiQcym1f"
      },
      "source": [
        "### Least Absolute Shrinkage and Selection Operator (LASSO)"
      ]
    },
    {
      "cell_type": "code",
      "execution_count": 78,
      "metadata": {
        "id": "cN88gF_oyqp8"
      },
      "outputs": [],
      "source": [
        "def fs_lasso():\n",
        "  skf = StratifiedKFold(n_splits=10)\n",
        "  lasso = LassoCV(cv=skf, random_state=42).fit(X_train, y_train)\n",
        "  features = list(X_train.columns[np.where(lasso.coef_!=0)[0]])\n",
        "  print('Selected Features:', features)\n",
        "  print(len(features))\n",
        "  len(X_train.columns)"
      ]
    },
    {
      "cell_type": "markdown",
      "metadata": {
        "id": "qe5kxH-95GMU"
      },
      "source": [
        "### Feature Importance"
      ]
    },
    {
      "cell_type": "code",
      "execution_count": 79,
      "metadata": {
        "id": "Ud_mDYRB5Hij"
      },
      "outputs": [],
      "source": [
        "def fs_feature_importance1():\n",
        "  rf = RandomForestClassifier(n_estimators = 100, class_weight='balanced', random_state=42)\n",
        "  # rf.fit(X_train, y_train)\n",
        "  # importances = rf.feature_importances_\n",
        "  # indices = np.argsort(importances)[::-1]\n",
        "  # plt.figure()\n",
        "  # plt.title(\"Feature importances\")\n",
        "  # plt.bar(range(X_train.shape[1]), importances[indices],\n",
        "  #         color=\"lightsalmon\", align=\"center\")\n",
        "  # plt.xticks(range(X_train.shape[1]), X_train.columns[indices], rotation=90)\n",
        "  # plt.xlim([-1, X_train.shape[1]])\n",
        "  # plt.show()\n",
        "\n",
        "  # return importances[indices]\n",
        "  return rf"
      ]
    },
    {
      "cell_type": "code",
      "execution_count": 80,
      "metadata": {
        "id": "mLTQCV809r74"
      },
      "outputs": [],
      "source": [
        "def fs_feature_importance2():\n",
        "  rf = RandomForestClassifier(n_estimators = 100, class_weight='balanced', random_state=42)\n",
        "  sfm = SelectFromModel(rf, max_features = n_feats_select)\n",
        "  # sfm.fit(X_train, y_train)\n",
        "  # X_important_train = sfm.transform(X_train)\n",
        "  # X_important_test = sfm.transform(X_valid)\n",
        "\n",
        "  # rf = RandomForestClassifier(n_estimators = 100, class_weight='balanced', random_state=42)\n",
        "  # rf.fit(X_important_train, y_train)\n",
        "  # y_pred = rf.predict(X_important_test)\n",
        "  # print(classification_report(y_valid, y_pred))\n",
        "\n",
        "  return sfm"
      ]
    },
    {
      "cell_type": "markdown",
      "metadata": {
        "id": "BiXYLTOi-FVy"
      },
      "source": [
        "### Permutation Importance"
      ]
    },
    {
      "cell_type": "code",
      "execution_count": 81,
      "metadata": {
        "id": "AR6ad7TK-IJJ"
      },
      "outputs": [],
      "source": [
        "def fs_permutation_importance1():\n",
        "  rf = RandomForestClassifier(n_estimators = 100, class_weight='balanced', random_state=42)\n",
        "  rf.fit(X_train, y_train)\n",
        "  perm = PermutationImportance(rf, random_state=42).fit(X_valid, y_valid)\n",
        "\n",
        "  # ver como imprime essa coisa aí...\n",
        "  eli5.show_weights(perm)"
      ]
    },
    {
      "cell_type": "code",
      "execution_count": 82,
      "metadata": {
        "id": "kvgv7QmA-KS8"
      },
      "outputs": [],
      "source": [
        "def fs_permutation_importance2():\n",
        "  X_train_, X_valid_ = getXTrain_XValid_(X_train, X_valid)\n",
        "  rf = RandomForestClassifier(n_estimators = 100, class_weight='balanced', random_state=42)\n",
        "  rf.fit(X_train_, y_train)\n",
        "  perm = PermutationImportance(rf, random_state=42).fit(X_train_, y_train)\n",
        "\n",
        "  return perm"
      ]
    },
    {
      "cell_type": "markdown",
      "metadata": {
        "id": "_5nJ7m5UEdQk"
      },
      "source": [
        "#Explicabilidade dos modelos de ML"
      ]
    },
    {
      "cell_type": "markdown",
      "metadata": {
        "id": "VdtULY_PFMku"
      },
      "source": [
        "## Imports"
      ]
    },
    {
      "cell_type": "code",
      "execution_count": 83,
      "metadata": {
        "colab": {
          "base_uri": "https://localhost:8080/"
        },
        "id": "rBaqcoaBFTck",
        "outputId": "d77aaff1-94dc-412f-fb63-6d877212b248"
      },
      "outputs": [
        {
          "output_type": "stream",
          "name": "stdout",
          "text": [
            "Requirement already satisfied: ruptures in /usr/local/lib/python3.10/dist-packages (1.1.8)\n",
            "Requirement already satisfied: numpy in /usr/local/lib/python3.10/dist-packages (from ruptures) (1.23.5)\n",
            "Requirement already satisfied: scipy in /usr/local/lib/python3.10/dist-packages (from ruptures) (1.11.3)\n",
            "Requirement already satisfied: shap in /usr/local/lib/python3.10/dist-packages (0.43.0)\n",
            "Requirement already satisfied: numpy in /usr/local/lib/python3.10/dist-packages (from shap) (1.23.5)\n",
            "Requirement already satisfied: scipy in /usr/local/lib/python3.10/dist-packages (from shap) (1.11.3)\n",
            "Requirement already satisfied: scikit-learn in /usr/local/lib/python3.10/dist-packages (from shap) (1.2.2)\n",
            "Requirement already satisfied: pandas in /usr/local/lib/python3.10/dist-packages (from shap) (1.5.3)\n",
            "Requirement already satisfied: tqdm>=4.27.0 in /usr/local/lib/python3.10/dist-packages (from shap) (4.66.1)\n",
            "Requirement already satisfied: packaging>20.9 in /usr/local/lib/python3.10/dist-packages (from shap) (23.2)\n",
            "Requirement already satisfied: slicer==0.0.7 in /usr/local/lib/python3.10/dist-packages (from shap) (0.0.7)\n",
            "Requirement already satisfied: numba in /usr/local/lib/python3.10/dist-packages (from shap) (0.56.4)\n",
            "Requirement already satisfied: cloudpickle in /usr/local/lib/python3.10/dist-packages (from shap) (2.2.1)\n",
            "Requirement already satisfied: llvmlite<0.40,>=0.39.0dev0 in /usr/local/lib/python3.10/dist-packages (from numba->shap) (0.39.1)\n",
            "Requirement already satisfied: setuptools in /usr/local/lib/python3.10/dist-packages (from numba->shap) (67.7.2)\n",
            "Requirement already satisfied: python-dateutil>=2.8.1 in /usr/local/lib/python3.10/dist-packages (from pandas->shap) (2.8.2)\n",
            "Requirement already satisfied: pytz>=2020.1 in /usr/local/lib/python3.10/dist-packages (from pandas->shap) (2023.3.post1)\n",
            "Requirement already satisfied: joblib>=1.1.1 in /usr/local/lib/python3.10/dist-packages (from scikit-learn->shap) (1.3.2)\n",
            "Requirement already satisfied: threadpoolctl>=2.0.0 in /usr/local/lib/python3.10/dist-packages (from scikit-learn->shap) (3.2.0)\n",
            "Requirement already satisfied: six>=1.5 in /usr/local/lib/python3.10/dist-packages (from python-dateutil>=2.8.1->pandas->shap) (1.16.0)\n",
            "Requirement already satisfied: lime in /usr/local/lib/python3.10/dist-packages (0.2.0.1)\n",
            "Requirement already satisfied: matplotlib in /usr/local/lib/python3.10/dist-packages (from lime) (3.7.1)\n",
            "Requirement already satisfied: numpy in /usr/local/lib/python3.10/dist-packages (from lime) (1.23.5)\n",
            "Requirement already satisfied: scipy in /usr/local/lib/python3.10/dist-packages (from lime) (1.11.3)\n",
            "Requirement already satisfied: tqdm in /usr/local/lib/python3.10/dist-packages (from lime) (4.66.1)\n",
            "Requirement already satisfied: scikit-learn>=0.18 in /usr/local/lib/python3.10/dist-packages (from lime) (1.2.2)\n",
            "Requirement already satisfied: scikit-image>=0.12 in /usr/local/lib/python3.10/dist-packages (from lime) (0.19.3)\n",
            "Requirement already satisfied: networkx>=2.2 in /usr/local/lib/python3.10/dist-packages (from scikit-image>=0.12->lime) (3.2)\n",
            "Requirement already satisfied: pillow!=7.1.0,!=7.1.1,!=8.3.0,>=6.1.0 in /usr/local/lib/python3.10/dist-packages (from scikit-image>=0.12->lime) (9.4.0)\n",
            "Requirement already satisfied: imageio>=2.4.1 in /usr/local/lib/python3.10/dist-packages (from scikit-image>=0.12->lime) (2.31.6)\n",
            "Requirement already satisfied: tifffile>=2019.7.26 in /usr/local/lib/python3.10/dist-packages (from scikit-image>=0.12->lime) (2023.9.26)\n",
            "Requirement already satisfied: PyWavelets>=1.1.1 in /usr/local/lib/python3.10/dist-packages (from scikit-image>=0.12->lime) (1.4.1)\n",
            "Requirement already satisfied: packaging>=20.0 in /usr/local/lib/python3.10/dist-packages (from scikit-image>=0.12->lime) (23.2)\n",
            "Requirement already satisfied: joblib>=1.1.1 in /usr/local/lib/python3.10/dist-packages (from scikit-learn>=0.18->lime) (1.3.2)\n",
            "Requirement already satisfied: threadpoolctl>=2.0.0 in /usr/local/lib/python3.10/dist-packages (from scikit-learn>=0.18->lime) (3.2.0)\n",
            "Requirement already satisfied: contourpy>=1.0.1 in /usr/local/lib/python3.10/dist-packages (from matplotlib->lime) (1.1.1)\n",
            "Requirement already satisfied: cycler>=0.10 in /usr/local/lib/python3.10/dist-packages (from matplotlib->lime) (0.12.1)\n",
            "Requirement already satisfied: fonttools>=4.22.0 in /usr/local/lib/python3.10/dist-packages (from matplotlib->lime) (4.43.1)\n",
            "Requirement already satisfied: kiwisolver>=1.0.1 in /usr/local/lib/python3.10/dist-packages (from matplotlib->lime) (1.4.5)\n",
            "Requirement already satisfied: pyparsing>=2.3.1 in /usr/local/lib/python3.10/dist-packages (from matplotlib->lime) (3.1.1)\n",
            "Requirement already satisfied: python-dateutil>=2.7 in /usr/local/lib/python3.10/dist-packages (from matplotlib->lime) (2.8.2)\n",
            "Requirement already satisfied: six>=1.5 in /usr/local/lib/python3.10/dist-packages (from python-dateutil>=2.7->matplotlib->lime) (1.16.0)\n"
          ]
        }
      ],
      "source": [
        "!pip install ruptures\n",
        "!pip install shap\n",
        "!pip install lime"
      ]
    },
    {
      "cell_type": "code",
      "execution_count": 84,
      "metadata": {
        "id": "ryI_P0BjElvt"
      },
      "outputs": [],
      "source": [
        "import numpy as np\n",
        "import pandas as pd\n",
        "import matplotlib.pyplot as plt\n",
        "plt.rcParams['figure.figsize'] = [10, 10]\n",
        "\n",
        "import shap as sp\n",
        "from lime import lime_tabular as lt\n",
        "from lime import submodular_pick as sub_p\n",
        "\n",
        "from scipy.stats import kurtosis, skew\n",
        "from scipy.signal import find_peaks\n",
        "from sklearn.ensemble import RandomForestClassifier\n",
        "from sklearn.neighbors import KNeighborsClassifier\n",
        "from sklearn.linear_model import LogisticRegression\n",
        "from sklearn.neural_network import MLPClassifier\n",
        "from sklearn.svm import SVC\n",
        "from sklearn.preprocessing import MinMaxScaler, OneHotEncoder\n",
        "from sklearn.model_selection import train_test_split, cross_val_score\n",
        "from sklearn.feature_selection import SelectFromModel\n",
        "from sklearn.naive_bayes import GaussianNB\n",
        "from sklearn.metrics import accuracy_score, f1_score, precision_score, recall_score, classification_report, roc_auc_score, roc_curve, auc\n",
        "from sklearn.inspection import (partial_dependence, PartialDependenceDisplay, permutation_importance)\n",
        "import random\n",
        "import ruptures as rpt\n",
        "\n",
        "from sklearn.preprocessing import LabelEncoder\n",
        "import cufflinks as cf\n",
        "\n",
        "import warnings"
      ]
    },
    {
      "cell_type": "markdown",
      "metadata": {
        "id": "8poYbigfZSiW"
      },
      "source": [
        "## SHAP"
      ]
    },
    {
      "cell_type": "code",
      "execution_count": 85,
      "metadata": {
        "id": "a7n0y1evDI30"
      },
      "outputs": [],
      "source": [
        "from scipy.__config__ import show\n",
        "class SHAP:\n",
        "    def __init__(self, model, ncm, X_train, X_valid, y_train_, ml_op='margin'):\n",
        "        global sp\n",
        "        self.model = model\n",
        "        self.X_train_ = X_train\n",
        "        self.X_valid_ = X_valid\n",
        "        self.shap = sp\n",
        "        self.explainer, self.shap_values = self.getExplainer(ncm, y_train_, ml_op)\n",
        "        self.samples = [3,4,7]\n",
        "\n",
        "    def getExplainer(self, ncm, y_train_, ml_op):\n",
        "      explainer = None\n",
        "      shap_values = None\n",
        "\n",
        "      X_train_shap = self.shap.sample(self.X_train_, 10)\n",
        "      X_valid_shap = self.shap.sample(self.X_valid_, 10)\n",
        "\n",
        "      # np.random.choice(features,1)\n",
        "      # X_train_shap = self.X_train_.sample(10)\n",
        "      # X_valid_shap = self.X_valid_.sample(10)\n",
        "\n",
        "      # X_train_shap = np.random.choice(self.X_train_,10)\n",
        "      # X_valid_shap = np.random.choice(self.X_valid_,10)\n",
        "\n",
        "      if ncm == \"Tree Based ML\":\n",
        "        explainer = self.shap.TreeExplainer(model=self.model, model_output=ml_op)\n",
        "        shap_values = explainer.shap_values(self.X_valid_)\n",
        "      elif ncm == \"Neural Network ML\":\n",
        "        self.X_train_ = X_train_shap\n",
        "        self.X_valid_ = X_valid_shap\n",
        "\n",
        "        explainer = self.shap.KernelExplainer(self.model.predict, X_valid_shap)\n",
        "\n",
        "        shap_values = explainer.shap_values(self.X_valid_,nsamples=100) # funciona\n",
        "      else:\n",
        "        # explain all the predictions in the test set\n",
        "        explainer = self.shap.KernelExplainer(self.model.predict_proba, X_train_shap)\n",
        "        shap_values = explainer.shap_values(X_valid_shap)\n",
        "\n",
        "        self.X_train_ = X_train_shap\n",
        "        self.X_valid_ = X_valid_shap\n",
        "\n",
        "      return explainer, shap_values\n",
        "\n",
        "    def explainer_water_plot(self, ncm):\n",
        "      from shap.plots import waterfall\n",
        "\n",
        "      i = 0\n",
        "      for row in self.samples:\n",
        "        print(\"SHAP - Plotando Explicador Waterfall\")\n",
        "        print(\"EXPLICANDO A AMOSTRA {} DO DATASET\".format(row))\n",
        "\n",
        "        if ncm == \"Tree Based ML\":\n",
        "          sv = self.explainer(self.X_valid_)\n",
        "          exp = self.shap.Explanation(sv.values[:,:,1],\n",
        "                            sv.base_values[:,1],\n",
        "                            data=self.X_valid_.values,\n",
        "                            feature_names=self.X_valid_.columns)\n",
        "          waterfall(exp[row])\n",
        "        elif ncm == \"Others ML\":\n",
        "          # funciona\n",
        "          self.shap.waterfall_plot(self.shap.Explanation(values=self.shap_values[1][row],\n",
        "                                          base_values=self.explainer.expected_value[1],\n",
        "                                          data=self.X_valid_.iloc[row],  # added this line\n",
        "                                          feature_names=self.X_valid_.columns.tolist())\n",
        "                                )\n",
        "        else:\n",
        "          if i == 0:\n",
        "            shap_values = self.explainer(self.X_valid_)\n",
        "            self.shap.plots.waterfall(shap_values[1])\n",
        "            i = 1\n",
        "\n",
        "    def explainer_local_force_plot(self, ncm, n):\n",
        "      for row in self.samples:\n",
        "        print(\"EXPLICANDO A AMOSTRA {} DO DATASET\".format(row))\n",
        "        # definindo a linha do dataset (a amostra) a ser explicada\n",
        "        # row = 3\n",
        "\n",
        "        # load JS visualization code to notebook\n",
        "        self.shap.initjs()\n",
        "\n",
        "        print(\"SHAP - Plotando Explicador Local - FORCE\")\n",
        "        if ncm == \"Tree Based ML\":\n",
        "          # funciona para Modelos baseados em árvore de decisão\n",
        "          self.shap.force_plot(\n",
        "              base_value=self.explainer.expected_value[1], # testando com o xgboost (funciona para outros modelos de árvore - base_value=self.explainer.expected_value[1])\n",
        "              # base_value=self.explainer.expected_value,\n",
        "              shap_values=self.shap_values[1][row],\n",
        "              features=self.X_valid_.iloc[row],\n",
        "              feature_names=self.X_valid_.columns,\n",
        "              link=\"identity\",\n",
        "              out_names=[\"Concluido\",\"Evadido\"],\n",
        "              matplotlib=True\n",
        "          )\n",
        "        elif ncm == \"Neural Network ML\":\n",
        "          p = self.shap.force_plot(self.explainer.expected_value,\n",
        "                                  self.shap_values[1],\n",
        "                                  self.X_valid_.iloc[row],\n",
        "                                  out_names=[\"Concluido\",\"Evadido\"],\n",
        "                                  matplotlib = True,\n",
        "                                  show = False)\n",
        "          plt.savefig('force_plot_'+n+'.svg')\n",
        "          plt.close()\n",
        "          # plt.show()\n",
        "          print(\"Imagem salva no Drive.\")\n",
        "        else:\n",
        "          self.shap.force_plot(self.explainer.expected_value[1],\n",
        "                              self.shap_values[1][row],\n",
        "                              self.X_valid_.iloc[row],\n",
        "                              link=\"logit\",\n",
        "                              out_names=[\"Concluido\",\"Evadido\"],\n",
        "                              matplotlib=True)\n",
        "\n",
        "    def explainer_local_decision_plot(self, ncm):\n",
        "      for row in self.samples:\n",
        "        print(\"EXPLICANDO A AMOSTRA {} DO DATASET\".format(row))\n",
        "        # definindo a linha do dataset (a amostra) a ser explicada\n",
        "        # row = 3\n",
        "\n",
        "        # load JS visualization code to notebook\n",
        "        self.shap.initjs()\n",
        "\n",
        "        print(\"SHAP - Plotando Explicador Local - DECISION\")\n",
        "        # We provide new_base_value as the cutoff probability for the classification mode\n",
        "        # This is done to increase the interpretability of the plot\n",
        "        if ncm == \"Tree Based ML\":\n",
        "          self.shap.decision_plot(\n",
        "              base_value=self.explainer.expected_value[1],\n",
        "              shap_values=self.shap_values[1][row],\n",
        "              features=self.X_valid_.iloc[row],\n",
        "              feature_names=self.X_valid_.columns.tolist(),\n",
        "              # link=\"identity\",\n",
        "              link=\"logit\",\n",
        "              # highlight=1,\n",
        "              new_base_value=0.5,\n",
        "          )\n",
        "        elif ncm == \"Neural Network ML\":\n",
        "          self.shap.decision_plot(self.explainer.expected_value, self.explainer.shap_values(self.X_valid_.iloc[row]),\n",
        "                            self.X_valid_.iloc[row])\n",
        "        else:\n",
        "          self.shap.decision_plot(self.explainer.expected_value[1], self.shap_values[1][row], self.X_valid_.columns, return_objects=True)\n",
        "\n",
        "    def explainer_global_summary_plot(self, ncm):\n",
        "      print(\"SHAP - Plotando Explicador Global - SUMMARY - TIPO = 'bar\")\n",
        "      #Summary Plot as a bar chart\n",
        "      if ncm == \"Tree Based ML\":\n",
        "        self.shap.summary_plot(shap_values = self.shap_values[1], features = self.X_valid_, class_names=[\"Concluido\",\"Evadido\"], max_display=20, plot_type='bar')\n",
        "        self.shap.summary_plot(self.shap_values[1], self.X_valid_)\n",
        "        self.shap.summary_plot(self.shap_values[0], self.X_valid_)\n",
        "      else:\n",
        "        self.shap.summary_plot(self.shap_values,self.X_valid_,feature_names=self.X_valid_.columns, class_names=[\"Concluido\",\"Evadido\"], plot_type='bar')\n",
        "\n",
        "    def explainer_summary_cat_plot(self, ncm):\n",
        "      print(\"SHAP - Plotando Explicador Global - SUMMARY - TIPO = 'dot\")\n",
        "      if ncm == \"Tree Based ML\" or ncm == \"Others ML\":\n",
        "        self.shap.summary_plot(self.shap_values, self.X_valid_, feature_names=self.X_valid_.columns, class_names=[\"Concluido\",\"Evadido\"])\n",
        "      else:\n",
        "        self.shap.summary_plot(self.shap_values, self.X_valid_, class_names=[\"Concluido\",\"Evadido\"], plot_type=\"dot\")\n",
        "\n",
        "    def explainer_global_dependence_plot(self, ncm, n):\n",
        "      # mudar para a função adequada...\n",
        "      indexs = np.random.choice(self.X_valid_.columns,1)\n",
        "      # feature = str(X_train_1.columns[indexs]).strip('[]').replace(\"'\", \"\")\n",
        "      feature = str(indexs).strip('[]').replace(\"'\", \"\")\n",
        "      # feature = X_train_1.columns[indexs]\n",
        "      print(feature)\n",
        "\n",
        "      print('feature: {}'.format(feature))\n",
        "      print(\"SHAP - Plotando Explicador Global - DEPENDENCE\")\n",
        "      # create a SHAP dependence plot to show the effect of a single feature across the whole dataset\n",
        "      #Dependence Plots (analogous to PDP)\n",
        "      if ncm == \"Tree Based ML\":\n",
        "        self.shap.dependence_plot(feature, self.shap_values[0], self.X_valid_) # funciona para tree\n",
        "        # self.shap.dependence_plot(feature, self.shap_values[0], self.X_valid_)\n",
        "        # self.shap.dependence_plot(feature, self.shap_values[1], self.X_valid_)\n",
        "        # self.shap.dependence_plot(feature, self.shap_values, self.X_valid_)\n",
        "      elif ncm == \"Neural Network ML\":\n",
        "        # If we pass a numpy array instead of a data frame then we\n",
        "        # need pass the feature names in separately\n",
        "        self.shap.dependence_plot(feature, self.shap_values, self.X_valid_.values, feature_names=self.X_valid_.columns)\n",
        "        # self.shap.dependence_plot(feature, self.shap_values[1], self.X_valid_.values, feature_names=self.X_valid_.columns)\n",
        "        # self.shap.dependence_plot(feature, self.shap_values, self.X_valid_.values, feature_names=self.X_valid_.columns)\n",
        "      else:\n",
        "        self.shap.dependence_plot(feature, self.shap_values[1], self.X_valid_.values, feature_names=self.X_valid_.columns)\n",
        "\n",
        "    def explainer_local_force_horizontal_plot(self, ncm, n):\n",
        "      print(\"SHAP - Plotando Explicador Local - FORCE - HORIZONTAL\")\n",
        "      if ncm == \"Tree Based ML\":\n",
        "        shap_values = self.explainer.shap_values(self.X_valid_.iloc[0:10,:])\n",
        "        self.shap.force_plot(self.explainer.expected_value[1],\n",
        "                           shap_values[1],\n",
        "                           self.X_valid_.iloc[0:10,:],\n",
        "                          #  matplotlib = True,\n",
        "                           show = False)\n",
        "        plt.savefig('force_plot_horizontal'+n+'.svg')\n",
        "        plt.close()\n",
        "        # plt.show()\n",
        "        print(\"Imagem salva no Drive.\")\n",
        "      elif ncm == \"Neural Network ML\":\n",
        "        shap_values = self.explainer.shap_values(self.X_valid_.iloc[0:10,:], nsamples=10)\n",
        "        p = self.shap.force_plot(self.explainer.expected_value,\n",
        "                                  self.shap_values[1],\n",
        "                                  self.X_valid_.iloc[[1]],\n",
        "                                  out_names=[\"Concluido\",\"Evadido\"],\n",
        "                                  matplotlib = True,\n",
        "                                  show = False)\n",
        "        plt.savefig('force_plot_horizontal'+n+'.svg')\n",
        "        plt.close()\n",
        "        # plt.show()\n",
        "        print(\"Imagem salva no Drive.\")\n",
        "      else:\n",
        "        shap_values = self.explainer.shap_values(self.X_valid_.iloc[0:10,:], nsamples=10)\n",
        "        self.shap.force_plot(self.explainer.expected_value[1],\n",
        "                           shap_values[1],\n",
        "                           self.X_valid_.iloc[0:10,:],\n",
        "                          #  matplotlib = True,\n",
        "                           show = False)\n",
        "        plt.savefig('force_plot_horizontal'+n+'.svg')\n",
        "        plt.close()\n",
        "        # plt.show()\n",
        "        print(\"Imagem salva no Drive.\")"
      ]
    },
    {
      "cell_type": "markdown",
      "metadata": {
        "id": "iWqw38E2ZVaR"
      },
      "source": [
        "## LIME"
      ]
    },
    {
      "cell_type": "code",
      "execution_count": 86,
      "metadata": {
        "id": "JPZJpDa6GngU"
      },
      "outputs": [],
      "source": [
        "class LIME:\n",
        "    def __init__(self, model, ncm, X_train_, X_valid_):\n",
        "        # Importing the module for LimeTabularExplainer\n",
        "        global lt, sub_p\n",
        "\n",
        "        self.model = model\n",
        "        self.X_train_ = X_train_\n",
        "        self.X_valid_ = X_valid_\n",
        "        self.lime_tabular = lt\n",
        "        self.submodular_pick = sub_p\n",
        "        self.lime_explainer = self.getLimeTabular(ncm)\n",
        "        self.samples = [3,4,7]\n",
        "\n",
        "    def getLimeTabular(self, ncm):\n",
        "      if ncm == \"Tree Based ML\" or ncm == \"Others ML\":\n",
        "        lime_explainer = self.lime_tabular.LimeTabularExplainer(self.X_train_.values,\n",
        "                                                          feature_names=self.X_train_.columns,\n",
        "                                                          # training_labels=self.X_train_,\n",
        "                                                          class_names=[\"Evadido\", \"Concluido\"],\n",
        "                                                          feature_selection=\"lasso_path\",\n",
        "                                                          discretize_continuous=True,\n",
        "                                                          # discretizer=\"entropy\",\n",
        "                                                          verbose=False,\n",
        "                                                           mode='classification'\n",
        "                                                          )\n",
        "\n",
        "      else:\n",
        "        class_names = self.X_train_.columns\n",
        "        X_train = self.X_train_.to_numpy()\n",
        "        X_test = self.X_valid_.to_numpy()\n",
        "\n",
        "        lime_explainer = self.lime_tabular.LimeTabularExplainer(\n",
        "            self.X_train_,\n",
        "            feature_names=self.X_train_.columns,\n",
        "            # training_labels=y_valid_,\n",
        "            # class_names=['situacao'],\n",
        "            class_names=[\"Evadido\", \"Concluido\"],\n",
        "            # categorical_features=categorical_features,\n",
        "            verbose=False,\n",
        "            mode='regression',\n",
        "            discretize_continuous=False)\n",
        "\n",
        "      return lime_explainer\n",
        "\n",
        "    def explainer_instance(self, ncm):\n",
        "      print(\"LIME - Explainer Instance\")\n",
        "      for row in self.samples:\n",
        "        print(\"EXPLICANDO A AMOSTRA {} DO DATASET\".format(row))\n",
        "        # print(\"Situação do aluno: {}\".format())\n",
        "        #Now let's pick a sample case from our test set.\n",
        "        # row = 4\n",
        "\n",
        "        exp = None\n",
        "        if ncm == \"Tree Based ML\" or ncm == \"Others ML\":\n",
        "          exp = self.lime_explainer.explain_instance(self.X_valid_.iloc[row].values, self.model.predict_proba, num_features=5)\n",
        "        else:\n",
        "          exp = self.lime_explainer.explain_instance(self.X_valid_.iloc[row], self.model.predict, num_features=5)\n",
        "\n",
        "          print(\"Input feature names: \")\n",
        "          print(self.X_valid_.columns)\n",
        "          print('\\n')\n",
        "\n",
        "          print(\"Input feature values: \")\n",
        "          print(self.X_valid_.iloc[row])\n",
        "          print('\\n')\n",
        "\n",
        "          print(\"Predicted: \")\n",
        "          print(self.model.predict(self.X_valid_)[row])\n",
        "\n",
        "        exp.show_in_notebook()\n",
        "        self.explainer_instance_as_list(exp)\n",
        "\n",
        "    def explainer_instance2(self, ncm):\n",
        "      print(\"LIME - Explainer Instance 2\")\n",
        "      for row in self.samples:\n",
        "        print(\"EXPLICANDO A AMOSTRA {} DO DATASET\".format(row))\n",
        "        # definindo a linha do dataset (a amostra) a ser explicada\n",
        "        # row = 10\n",
        "\n",
        "        if ncm == \"Tree Based ML\" or ncm == \"Others ML\":\n",
        "          model = self.model.predict_proba\n",
        "        else:\n",
        "          model = self.model.predict\n",
        "\n",
        "        exp = self.lime_explainer.explain_instance(self.X_valid_.iloc[row].values, model, num_features=5)\n",
        "        sp_obj = self.submodular_pick.SubmodularPick(self.lime_explainer, self.X_train_.values, model, sample_size=20, num_features=10, num_exps_desired=5)\n",
        "\n",
        "        if ncm == \"Tree Based ML\" or ncm == \"Others ML\":\n",
        "          #Plot the 5 explanations\n",
        "          [exp.as_pyplot_figure(label=exp.available_labels()[0]) for exp in sp_obj.sp_explanations]\n",
        "          W_pick=pd.DataFrame([dict(this.as_list(this.available_labels()[0])) for this in sp_obj.sp_explanations]).fillna(0)\n",
        "\n",
        "\n",
        "          W_pick['prediction'] = [this.available_labels()[0] for this in sp_obj.sp_explanations]\n",
        "\n",
        "          #Making a dataframe of all the explanations of sampled points\n",
        "          W=pd.DataFrame([dict(this.as_list(this.available_labels()[0])) for this in sp_obj.explanations]).fillna(0)\n",
        "          W['prediction'] = [this.available_labels()[0] for this in sp_obj.explanations]\n",
        "\n",
        "          #Plotting the aggregate importances\n",
        "          np.abs(W.drop(\"prediction\", axis=1)).mean(axis=0).sort_values(ascending=False).head(\n",
        "              10\n",
        "          ).sort_values(ascending=True).plot(kind=\"barh\")\n",
        "\n",
        "          #Aggregate importances split by classes\n",
        "          grped_coeff = W.groupby(\"prediction\").mean()\n",
        "\n",
        "          grped_coeff = grped_coeff.T\n",
        "          grped_coeff[\"abs\"] = np.abs(grped_coeff.iloc[:, 0])\n",
        "          grped_coeff.sort_values(\"abs\", inplace=True, ascending=False)\n",
        "          grped_coeff.head(25).sort_values(\"abs\", ascending=True).drop(\"abs\", axis=1).plot(\n",
        "              kind=\"barh\", #bargap=0.5\n",
        "          )\n",
        "        else:\n",
        "          [exp.as_pyplot_figure() for exp in sp_obj.sp_explanations];\n",
        "          W_pick=pd.DataFrame([dict(this.as_list()) for this in sp_obj.explanations])\n",
        "\n",
        "          print(W_pick.head())\n",
        "\n",
        "    def explainer_instance3(self, ncm):\n",
        "      print(\"LIME - Explainer Instance 3\")\n",
        "\n",
        "      for row in self.samples:\n",
        "        print(\"EXPLICANDO A AMOSTRA {} DO DATASET\".format(row))\n",
        "        cf.go_offline()\n",
        "        cf.set_config_file(offline=False, world_readable=True)\n",
        "\n",
        "        # definindo a linha do dataset (a amostra) a ser explicada\n",
        "        # row = 10\n",
        "\n",
        "        if ncm == \"Tree Based ML\" or ncm == \"Others ML\":\n",
        "          model = self.model.predict_proba\n",
        "\n",
        "          exp = self.lime_explainer.explain_instance(self.X_valid_.iloc[row].values, model, num_features=5)\n",
        "          sp_obj = self.submodular_pick.SubmodularPick(self.lime_explainer, self.X_train_.values, model, sample_size=190, num_features=9, num_exps_desired=5)\n",
        "\n",
        "          if ncm == \"Tree Based ML\" or ncm == \"Others ML\":\n",
        "            #Plot the 5 explanations\n",
        "            [exp.as_pyplot_figure(label=exp.available_labels()[0]) for exp in sp_obj.sp_explanations];\n",
        "            # Make it into a dataframe\n",
        "            W_pick=pd.DataFrame([dict(this.as_list(this.available_labels()[0])) for this in sp_obj.sp_explanations]).fillna(0)\n",
        "\n",
        "            W_pick['prediction'] = [this.available_labels()[0] for this in sp_obj.sp_explanations]\n",
        "\n",
        "            #Making a dataframe of all the explanations of sampled points\n",
        "            W=pd.DataFrame([dict(this.as_list(this.available_labels()[0])) for this in sp_obj.explanations]).fillna(0)\n",
        "            W['prediction'] = [this.available_labels()[0] for this in sp_obj.explanations]\n",
        "            W['prediction']  = W.apply(lambda row: 'Evadido' if (row['prediction'] == 0) else row['prediction'], axis=1)\n",
        "            W['prediction']  = W.apply(lambda row: 'Concluido' if (row['prediction'] == 1) else row['prediction'], axis=1)\n",
        "            # W['prediction']  = W.apply(lambda row: 'Patológico' if (row['prediction'] == 2) else row['prediction'], axis=1)\n",
        "            #Plotting the aggregate importances\n",
        "            np.abs(W.drop(\"prediction\", axis=1)).mean(axis=0).sort_values(ascending=False).head(25).sort_values(ascending=True).iplot(kind=\"barh\")\n",
        "\n",
        "            #Aggregate importances split by classes\n",
        "            grped_coeff = W.groupby(\"prediction\").mean()\n",
        "\n",
        "            grped_coeff = grped_coeff.T\n",
        "            grped_coeff[\"abs\"] = np.abs(grped_coeff.iloc[:, 0])\n",
        "            grped_coeff.sort_values(\"abs\", inplace=True, ascending=False)\n",
        "            grped_coeff.head(25).sort_values(\"abs\", ascending=True).drop(\"abs\", axis=1).iplot(kind=\"barh\", bargap=0.05)\n",
        "\n",
        "    def explainer_instance_as_list(self, exp):\n",
        "      %matplotlib inline\n",
        "      fig = exp.as_pyplot_figure();\n",
        "      # exp.as_list()\n",
        "      list_exp = exp.as_list()\n",
        "      print('[')\n",
        "      for e in list_exp:\n",
        "        print(e)\n",
        "      print(']')\n"
      ]
    },
    {
      "cell_type": "markdown",
      "metadata": {
        "id": "Jcj0Wu1tmZhX"
      },
      "source": [
        "# Tratando o Desbalanceamento da Classe Alvo do Dataset"
      ]
    },
    {
      "cell_type": "markdown",
      "metadata": {
        "id": "5zSkDq67-nhj"
      },
      "source": [
        "##Imports"
      ]
    },
    {
      "cell_type": "code",
      "execution_count": 87,
      "metadata": {
        "id": "R2f81iXQ-pl2"
      },
      "outputs": [],
      "source": [
        "from collections import Counter as cnt\n",
        "from imblearn.under_sampling import RandomUnderSampler as rus\n",
        "from imblearn.over_sampling import RandomOverSampler as ros\n",
        "from imblearn.over_sampling import SMOTE as smt\n",
        "\n",
        "from imblearn.combine import SMOTEENN as smtn\n",
        "\n",
        "import matplotlib.pyplot as plt"
      ]
    },
    {
      "cell_type": "markdown",
      "metadata": {
        "id": "kQRsXQJd8kXJ"
      },
      "source": [
        "##Analisando o desbalanceamento da Classe"
      ]
    },
    {
      "cell_type": "code",
      "execution_count": 88,
      "metadata": {
        "id": "RG7ZyN3MlRLw"
      },
      "outputs": [],
      "source": [
        "class Balanceamento:\n",
        "  def __init__(self):\n",
        "    self.X = None\n",
        "    self.y = None\n",
        "\n",
        "  def setXy(self, X_, y_):\n",
        "    self.X = X_\n",
        "    self.y = y_\n",
        "\n",
        "  def getX(self):\n",
        "    return self.X\n",
        "\n",
        "  def getY(self):\n",
        "    return self.y\n",
        "\n",
        "  def getXy(self):\n",
        "    return self.X, self.y\n",
        "\n",
        "  def analise_desbalanceamento(self, y_):\n",
        "    # Percentual do dataset 'df' em relação ao dataset original\n",
        "\n",
        "    global plt\n",
        "    # Percentuais internos ao dataset 'df'\n",
        "    # print(df.situacao.value_counts())\n",
        "    # df.situacao.hist()\n",
        "    x = list(y_.unique())\n",
        "    percentage = []\n",
        "    total_linhas = len(y_)\n",
        "\n",
        "    total_valores = list(y_.value_counts())\n",
        "\n",
        "    for i in total_valores:\n",
        "      pct = (i / total_linhas) * 100\n",
        "      percentage.append(round(pct,2))\n",
        "\n",
        "    # colors_list = ['Red','Blue']\n",
        "    colors = {'1,0 - Formado => '+str(y_.value_counts()[1]):'red', '0,0 - Evadido => {}'.format(y_.value_counts()[0]):'blue'}\n",
        "    labels = list(colors.keys())\n",
        "    handles = [plt.Rectangle((0,0),1,1, color=colors[label]) for label in labels]\n",
        "\n",
        "    plt.figure(figsize=(8,8))\n",
        "    graph = plt.bar(x,percentage, color = list(colors.values()))\n",
        "\n",
        "    i = 0\n",
        "    for p in graph:\n",
        "        width = p.get_width()\n",
        "        height = p.get_height()\n",
        "        x, y = p.get_xy()\n",
        "\n",
        "        plt.text(x+width/2,\n",
        "                y+height+1,\n",
        "                str(round(percentage[i]))+'%',\n",
        "                ha='center',\n",
        "                weight='bold')\n",
        "        i+=1\n",
        "\n",
        "    plt.xlabel(\"Situação\")\n",
        "    plt.ylabel(\"Percentual (%)\")\n",
        "    plt.title(\"Distribuição da variável 'situacao'\")\n",
        "    plt.legend(handles, labels)\n",
        "    plt.show()\n",
        "\n",
        "  def sub_amostragem(self):\n",
        "    global cnt, rus\n",
        "    print(\"O dataset passará por uma sub-amostragem\")\n",
        "\n",
        "    # exibindo a distribuição de classes\n",
        "    print(\"Antes: \", cnt(self.y))\n",
        "\n",
        "    # definindo a estratégia de sub-amostragem\n",
        "    undersample = rus(sampling_strategy=1)\n",
        "\n",
        "    # aplicando a transformação de reamsostragem\n",
        "    X, y = undersample.fit_resample(self.X, self.y)\n",
        "    self.setXy(X,y)\n",
        "\n",
        "    # exibindo a distribuição de classes\n",
        "    print(\"Depois: \", cnt(self.y))\n",
        "\n",
        "  def super_amostragem(self):\n",
        "    global cnt, smt, ros\n",
        "    print(\"O dataset passará por uma super-amostragem\")\n",
        "\n",
        "    # exibindo a distribuição de classes\n",
        "    print(\"Antes: \", cnt(self.y))\n",
        "\n",
        "    # definindo a estratégia de super-amostragem\n",
        "    oversample = ros(sampling_strategy=1)\n",
        "\n",
        "    # aplicando a transformação de reamsostragem\n",
        "    X, y = oversample.fit_resample(self.X, self.y)\n",
        "    self.setXy(X,y)\n",
        "\n",
        "    # exibindo a distribuição de classes\n",
        "    print(\"Depois: \", cnt(self.y))\n",
        "\n",
        "  def sub_super_amostragem(self):\n",
        "    global cnt, smtn\n",
        "    # exibindo a distribuição de classes\n",
        "    print(\"Antes: \", cnt(self.y))\n",
        "\n",
        "    # definindo a estratégia de reamostragem\n",
        "    sample = smtn(sampling_strategy=1)\n",
        "\n",
        "    # aplicando a transformação de reamsostragem\n",
        "    X, y = sample.fit_resample(self.X, self.y)\n",
        "    self.setXy(X, y)\n",
        "\n",
        "    # exibindo a distribuição de classes\n",
        "    print(\"Depois: \", cnt(self.y))"
      ]
    },
    {
      "cell_type": "code",
      "source": [
        "def balanceia(balance, X_, y_, tipo):\n",
        "  balance.setXy(X_, y_)\n",
        "  balance.analise_desbalanceamento(balance.getY())\n",
        "\n",
        "  if tipo == 1:\n",
        "    balance.super_amostragem()\n",
        "  elif tipo == 0:\n",
        "    balance.sub_amostragem()\n",
        "  elif tipo == 2:\n",
        "    balance.sub_super_amostragem()\n",
        "\n",
        "  balance.analise_desbalanceamento(balance.getY())\n",
        "\n",
        "  return balance.getX(), balance.getY()"
      ],
      "metadata": {
        "id": "idTDCdHXa3iu"
      },
      "execution_count": 89,
      "outputs": []
    },
    {
      "cell_type": "markdown",
      "metadata": {
        "id": "8gn-hfPRNXuz"
      },
      "source": [
        "#Pipeline para Realização dos Experimentos da Pesquisa"
      ]
    },
    {
      "cell_type": "markdown",
      "metadata": {
        "id": "9AEnoktK1yIx"
      },
      "source": [
        "##Configuração dos Dicionários para os experimentos"
      ]
    },
    {
      "cell_type": "markdown",
      "metadata": {
        "id": "k7HyFlAa39Jk"
      },
      "source": [
        "####Imports"
      ]
    },
    {
      "cell_type": "code",
      "execution_count": 90,
      "metadata": {
        "id": "2WFZcwGP3_TW"
      },
      "outputs": [],
      "source": [
        "from sklearn import svm\n",
        "from sklearn.neural_network import MLPClassifier as mlpc\n",
        "from sklearn.neural_network import MLPRegressor as mlpr"
      ]
    },
    {
      "cell_type": "markdown",
      "metadata": {
        "id": "fUtl8Tnoilkp"
      },
      "source": [
        "####Dicionários de Métodos de Features Selection"
      ]
    },
    {
      "cell_type": "code",
      "execution_count": 91,
      "metadata": {
        "id": "TjqppSz_1yJL"
      },
      "outputs": [],
      "source": [
        "def dicionariosMetodosFeatureSelection():\n",
        "  # Realizando a seleção de atributos [testar vários métodos de feature selection]\n",
        "  ## Filter Method ##\n",
        "  filterMethod = {\n",
        "      # \"lda\": lda(), # não tá funcionando\n",
        "      \"Anova\": anova(), # funciona\n",
        "      # \"Chi Squared\": chi_squared(), # funciona (?)\n",
        "      # \"pearsons_correlation\": pearsons_correlation() # não tá funcionando\n",
        "  }\n",
        "\n",
        "  wrapperMethod = {\n",
        "      # \"genetic_algorithm\": genetic_algorithm(), # funciona\n",
        "      \"Forward Selection\": forward_selection(), # funciona\n",
        "      \"Backward Selection\": backward_selection(), # funciona\n",
        "      # \"RFE\": fs_rfe_0(), # funciona\n",
        "      # \"Randomly Permutating Boruta\": randomly_permutating_boruta(),  # não tá funcionando\n",
        "      # \"Binomial Distribution Boruta\": binomial_distribution_boruta(),  # não tá funcionando\n",
        "  }\n",
        "\n",
        "  embeddedMethod = {\n",
        "      # \"Feature Importance\": fs_feature_importance1(),  # não tá funcionando\n",
        "      \"Feature Importance\": fs_feature_importance2(), # funciona\n",
        "      # \"Permutation Importance\": fs_permutation_importance2()  # não tá funcionando\n",
        "  }\n",
        "\n",
        "  feature_selection_methods = {\n",
        "      \"Filter Method\": filterMethod, # funciona\n",
        "      # \"Wrapper Method\": wrapperMethod, # funciona\n",
        "      # \"Embedded Method\": embeddedMethod # funciona\n",
        "  }\n",
        "\n",
        "  return feature_selection_methods"
      ]
    },
    {
      "cell_type": "markdown",
      "metadata": {
        "id": "nULD98Tui_fX"
      },
      "source": [
        "####Dicionário de Métodos de ML"
      ]
    },
    {
      "cell_type": "code",
      "execution_count": 92,
      "metadata": {
        "id": "EHgCf1_AjEoe"
      },
      "outputs": [],
      "source": [
        "import xgboost as xgb\n",
        "\n",
        "def dicionarioModeloML():\n",
        "  # Gerando o modelo de ML [mesmo classificador] com o dataset com atributos selecionados\n",
        "  global svm, mlpc, xgb\n",
        "\n",
        "  # initialise regression model\n",
        "  dt = DecisionTreeClassifier()\n",
        "  rl = LogisticRegression()\n",
        "  ada = AdaBoostClassifier()\n",
        "  rfc = RandomForestClassifier()\n",
        "  gbc = GradientBoostingClassifier()\n",
        "  # xgb = xgb.XGBRegressor(n_estimators=1000, tree_method=\"gpu_hist\")\n",
        "  # xgb = XGBClassifier()\n",
        "  # gnb = GaussianNB()\n",
        "  knn = KNeighborsClassifier(3)\n",
        "  svm1 = svm.SVC(probability=True)\n",
        "  neural_networkR = mlpr(hidden_layer_sizes=(5,),activation='logistic', max_iter=10000,learning_rate='invscaling',random_state=0)\n",
        "  neural_networkC = mlpc(hidden_layer_sizes=(5,),activation='logistic', max_iter=10000,learning_rate='invscaling',random_state=0)\n",
        "\n",
        "  treeBasedML = {\n",
        "    \"Decision Tree Classifier\":dt, # funciona\n",
        "    # \"AdaBoost Classifier\":ada,\n",
        "    # \"XGBRegressor\": xgb, # não funcionou...\n",
        "    # \"GradientBoostingClassifier\":gbc, # não funcionou...\n",
        "    # \"Random Forest Classifier\":rfc,  # funciona\n",
        "    # \"XGB Classifier\":xgb,\n",
        "  }\n",
        "\n",
        "  neuralNetworkML = {\n",
        "    # \"MLPRegressor\": neural_networkR, # funciona\n",
        "    \"MLPClassifier\": neural_networkC, # funciona\n",
        "  }\n",
        "\n",
        "  othersML = {\n",
        "      \"Logistic Regression\":rl, # funciona\n",
        "      # \"KNeighbors Classifier\":knn,\n",
        "      # \"Support vector machines\": svm1, # funciona\n",
        "      # \"GaussianNB\":gnb,\n",
        "  }\n",
        "\n",
        "  catModels = {\n",
        "      \"Tree Based ML\": treeBasedML, # funciona\n",
        "      # \"Neural Network ML\": neuralNetworkML, # funciona\n",
        "      # \"Others ML\": othersML # funciona\n",
        "  }\n",
        "\n",
        "  return catModels"
      ]
    },
    {
      "cell_type": "markdown",
      "metadata": {
        "id": "dGf6XAONDFYS"
      },
      "source": [
        "##1. Sel Att => [ mesmo classificador] => XAI\n",
        "\n",
        "Testar um único paradigma (SVM / KNN / RF / NB / etc ) por vez."
      ]
    },
    {
      "cell_type": "markdown",
      "metadata": {
        "id": "gr8qaea_w-ah"
      },
      "source": [
        "###Funções do Pipeline"
      ]
    },
    {
      "cell_type": "code",
      "source": [
        "import pickle"
      ],
      "metadata": {
        "id": "AYijOUXcvuiy"
      },
      "execution_count": 93,
      "outputs": []
    },
    {
      "cell_type": "code",
      "execution_count": 94,
      "metadata": {
        "id": "DRtNSo6FKrlU"
      },
      "outputs": [],
      "source": [
        "def tratando_o_pipeline(pipeline, n, ncm, X_train_ = X_train, y_train_ = y_train, X_valid_ = X_valid, y_valid_ = y_valid):\n",
        "    # model fitting\n",
        "    best_model = pipeline.fit(X_train_, y_train_)\n",
        "    best_pipe = best_model.best_estimator_\n",
        "\n",
        "    # for p in best_model.get_params().keys():\n",
        "    #   print(p)\n",
        "\n",
        "    #checking the selected permutation of parameters\n",
        "    print(\"checking the selected permutation of parameters\")\n",
        "    # print(list(grid.best_params_))\n",
        "    # for bp in grid.best_params_:\n",
        "    #   print(bp)\n",
        "\n",
        "    # model_informations(ncm, n, pipeline, X_train_, y_train_, X_valid_, y_valid_) # detalhes do modelo\n",
        "    model_informations(ncm, n, best_model, X_train_, y_train_, X_valid_, y_valid_) # detalhes do modelo\n",
        "\n",
        "    # Transforming the test data.\n",
        "    X_train_encoded, X_valid_encoded = getXTrain_XValid_(best_pipe['preprocessing'], X_train_, X_valid_)\n",
        "\n",
        "    # recuperando os atributos selecionados no pipeline\n",
        "    features = best_pipe['feature_selection'].get_support(indices=True)\n",
        "    features = list(X_train_encoded.columns[features])\n",
        "    # print(features)\n",
        "    # print(X_train_encoded[features])\n",
        "\n",
        "    # if ncm != \"Tree Based ML\":\n",
        "    # ajustando os dataset x_train e x_valid com os atributos selecionados\n",
        "    X_train_encoded = X_train_encoded[features]\n",
        "    X_valid_encoded = X_valid_encoded[features]\n",
        "\n",
        "    explicabilidade_do_modelo(best_pipe['model'], n, ncm, X_train_encoded, X_valid_encoded, y_train_)\n",
        "\n",
        "def explicabilidade_do_modelo(model, n, ncm, X_train_, X_valid_, y_train_):\n",
        "    shap = SHAP(model, ncm, X_train_, X_valid_, y_train_)\n",
        "    shap.explainer_local_force_plot(ncm, n)\n",
        "    shap.explainer_local_force_horizontal_plot(ncm, n)\n",
        "    shap.explainer_water_plot(ncm)\n",
        "    shap.explainer_local_decision_plot(ncm)\n",
        "    shap.explainer_global_summary_plot(ncm)\n",
        "    shap.explainer_summary_cat_plot(ncm)\n",
        "    shap.explainer_global_dependence_plot(ncm, n)\n",
        "\n",
        "    lime = LIME(model, ncm, X_train_, X_valid_)\n",
        "    lime.explainer_instance(ncm)\n",
        "    lime.explainer_instance2(ncm)\n",
        "    lime.explainer_instance3(ncm)\n",
        "\n",
        "def create_pipeline(fs, ncm, model):\n",
        "  #this is the classifier used for feature selection\n",
        "  pipeline = Pipeline([\n",
        "      ('preprocessing', combined_preprocessing),\n",
        "      ('feature_selection', fs),\n",
        "      # ('gridsearch_cv',grid)\n",
        "      ('model', model)\n",
        "  ])\n",
        "\n",
        "  paramns = {}\n",
        "  print('ncm = {}'.format(ncm))\n",
        "  if ncm == \"Tree Based ML\":\n",
        "    params = {\n",
        "      'model__criterion': ['gini', 'entropy', 'log_loss'],\n",
        "      'model__max_depth' : [None],\n",
        "      'model__min_samples_split' : [2, 5, 10],\n",
        "      'model__min_samples_leaf' : [1, 3, 10],\n",
        "      'model__max_features': ['auto', 'sqrt', 'log2'],\n",
        "      'model__max_leaf_nodes': list(range(2, 100)),\n",
        "      'model__random_state' : [2,5],\n",
        "      'class_weight':[{0: w} for w in [1, 2, 4, 6, 10]],\n",
        "      'ccp_alpha': np.arange(0, 1, 0.001).tolist()\n",
        "    }\n",
        "  elif ncm == \"Neural Network ML\":\n",
        "    params = {\n",
        "      'model__\"activation': [\"identity\", \"logistic\", \"tanh\", \"relu\"],\n",
        "      'model__hidden_layer_sizes': [(1,),(50,)],\n",
        "      'model__solver' : ['lbfgs', 'sgd', 'adam'],\n",
        "      'model__random_state' : [2,5,7]\n",
        "    }\n",
        "  else:\n",
        "    params = {\n",
        "      'model__C' : [0.1, 0.5, 1, 5],\n",
        "      'class_weight':[{0: w} for w in [1, 2, 4, 6, 10]],\n",
        "      # 'model__class_weight' : ['balanced'],\n",
        "      'model__max_iter': [10000],\n",
        "      'model__tol' :  [0.1],\n",
        "      'model__random_state' : [2,5,7],\n",
        "    }\n",
        "\n",
        "\n",
        "  pipe_grid = GridSearchCV(pipeline, param_grid=params, cv=5, refit=\"AUC\", scoring = 'roc_auc')\n",
        "\n",
        "  return pipe_grid\n",
        "  # return pipeline"
      ]
    },
    {
      "cell_type": "markdown",
      "metadata": {
        "id": "pwT2v5L7xMJs"
      },
      "source": [
        "###Função principal"
      ]
    },
    {
      "cell_type": "code",
      "execution_count": 95,
      "metadata": {
        "id": "nA9iwPX3L-Tb"
      },
      "outputs": [],
      "source": [
        "def main():\n",
        "  # definição do classificador a ser utilazo nos experimentos com os diversos métodos de seleção de atributos.\n",
        "  catModels = dicionarioModeloML()\n",
        "\n",
        "  for name, methods in dicionariosMetodosFeatureSelection().items():\n",
        "    for m in methods.items():\n",
        "      for ncm, models in catModels.items():\n",
        "        for n, model in models.items():\n",
        "          print(f'Tipo de método:{name}')\n",
        "          print(f'Nome do método: {m[0]}')\n",
        "          print(f'Categoria de modelos de ML: {ncm}')\n",
        "          print(f'Nome do modelo de ML: {n}')\n",
        "\n",
        "          executa_balanciamento = 1\n",
        "          '''\n",
        "          O dataset vai ser balanceado?\n",
        "          0 - Não\n",
        "          1 - sim\n",
        "          '''\n",
        "\n",
        "          # o modelo, propriamente dito = complete_pipeline\n",
        "          pipeline = create_pipeline(m[1], ncm, model)\n",
        "\n",
        "          # X_train_B, y_train_B, X_valid_B, y_valid_B = X_train.copy(), y_train.copy(), X_valid.copy(), y_valid.copy()\n",
        "\n",
        "          # if executa_balanciamento == 1:\n",
        "          #   tratando_o_pipeline(pipeline, X_train_B, y_train_B, X_valid_B, y_valid_B)\n",
        "          # elif executa_balanciamento == 0:\n",
        "          #   tratando_o_pipeline(pipeline)\n",
        "          if executa_balanciamento:\n",
        "            print(\"EXPERIMENTO COM DADOS BALANCEADOS\")\n",
        "\n",
        "            tipo_balanceamento = 0\n",
        "            '''\n",
        "            Definidno o tipo de balanceamento (tipo_balanceamento):\n",
        "            0 - sub-amostragem # funciona\n",
        "            1 - super-amostragem # funciona\n",
        "            2 - sub-super-amostragem # não tá funcionando para dados categóricos\n",
        "            '''\n",
        "\n",
        "            b = Balanceamento()\n",
        "            print(\"\\nAnálise de desbalanceamento do dataset de treino\")\n",
        "            # X_train_B, y_train_B = balanceia(b, X_train_B, y_train_B, tipo_balanceamento)\n",
        "            X_train_B, y_train_B = balanceia(b, X_train, y_train, tipo_balanceamento)\n",
        "\n",
        "            print(\"\\nAnálise de desbalanceamento do dataset de validação\")\n",
        "            # X_valid_B, y_valid_B = balanceia(b, X_valid_B, y_valid_B, tipo_balanceamento)\n",
        "            X_valid_B, y_valid_B = balanceia(b, X_valid, y_valid, tipo_balanceamento)\n",
        "\n",
        "            tratando_o_pipeline(pipeline, n, ncm, X_train_B, y_train_B, X_valid_B, y_valid_B)\n",
        "          else:\n",
        "            print(\"EXPERIMENTO COM DADOS ORIGINAIS\")\n",
        "\n",
        "            print(\"Dimensões do dataset de x-treino: {}\".format(X_train.shape))\n",
        "            print(\"Dimensões do dataset de y-treino: {}\".format(y_train.shape))\n",
        "            print(\"Dimensões do dataset de x-validação: {}\".format(X_valid.shape))\n",
        "            print(\"Dimensões do dataset de y-validação: {}\".format(y_valid.shape))\n",
        "            tratando_o_pipeline(pipeline, n, ncm)"
      ]
    },
    {
      "cell_type": "markdown",
      "metadata": {
        "id": "vlQaMGD3xQGv"
      },
      "source": [
        "###Start dos experimentos"
      ]
    },
    {
      "cell_type": "code",
      "execution_count": null,
      "metadata": {
        "colab": {
          "base_uri": "https://localhost:8080/",
          "height": 1000
        },
        "id": "GNFy6JLlZUnS",
        "outputId": "5eb32c58-e130-4ecd-beb4-d0a6c387bed1"
      },
      "outputs": [
        {
          "output_type": "stream",
          "name": "stdout",
          "text": [
            "Tipo de método:Filter Method\n",
            "Nome do método: Anova\n",
            "Categoria de modelos de ML: Tree Based ML\n",
            "Nome do modelo de ML: Decision Tree Classifier\n",
            "ncm = Tree Based ML\n",
            "EXPERIMENTO COM DADOS BALANCEADOS\n",
            "\n",
            "Análise de desbalanceamento do dataset de treino\n"
          ]
        },
        {
          "output_type": "display_data",
          "data": {
            "text/plain": [
              "<Figure size 800x800 with 1 Axes>"
            ],
            "image/png": "[encoded data removed]"
          },
          "metadata": {}
        },
        {
          "output_type": "stream",
          "name": "stdout",
          "text": [
            "O dataset passará por uma sub-amostragem\n",
            "Antes:  Counter({1: 8150, 0: 2408})\n",
            "Depois:  Counter({0: 2408, 1: 2408})\n"
          ]
        },
        {
          "output_type": "display_data",
          "data": {
            "text/plain": [
              "<Figure size 800x800 with 1 Axes>"
            ],
            "image/png": "[encoded data removed]"
          },
          "metadata": {}
        },
        {
          "output_type": "stream",
          "name": "stdout",
          "text": [
            "\n",
            "Análise de desbalanceamento do dataset de validação\n"
          ]
        },
        {
          "output_type": "display_data",
          "data": {
            "text/plain": [
              "<Figure size 800x800 with 1 Axes>"
            ],
            "image/png": "[encoded data removed]"
          },
          "metadata": {}
        },
        {
          "output_type": "stream",
          "name": "stdout",
          "text": [
            "O dataset passará por uma sub-amostragem\n",
            "Antes:  Counter({1: 3553, 0: 973})\n",
            "Depois:  Counter({0: 973, 1: 973})\n"
          ]
        },
        {
          "output_type": "display_data",
          "data": {
            "text/plain": [
              "<Figure size 800x800 with 1 Axes>"
            ],
            "image/png": "[encoded data removed]"
          },
          "metadata": {}
        }
      ],
      "source": [
        "if __name__ == '__main__':\n",
        "    main()"
      ]
    },
    {
      "cell_type": "markdown",
      "metadata": {
        "id": "h-6jSFvUBTLD"
      },
      "source": [
        "##2. [Sel Att] => Variar Classificador => XAI\n",
        "\n",
        "Vários Clasificadores: Paradigmas (SVM / KNN / RF / NB / etc ) => XAI"
      ]
    },
    {
      "cell_type": "markdown",
      "metadata": {
        "id": "wBf7iDSaBjrB"
      },
      "source": [
        "##3. Acc independente e XAI - a ver...\n",
        "\n",
        "XAI: SHAPE e LIME\n",
        "\n",
        "Sel Att -> Local"
      ]
    }
  ],
  "metadata": {
    "colab": {
      "collapsed_sections": [
        "bldlza3VrZIM",
        "B2CT0y1GuwIv",
        "JQZpAhEy7Wa-",
        "8tNkw0iakVvS",
        "Qj17Mfh7olSg",
        "Jcj0Wu1tmZhX"
      ],
      "provenance": [],
      "toc_visible": true,
      "include_colab_link": true
    },
    "gpuClass": "standard",
    "kernelspec": {
      "display_name": "Python 3",
      "name": "python3"
    },
    "language_info": {
      "name": "python"
    }
  },
  "nbformat": 4,
  "nbformat_minor": 0
}